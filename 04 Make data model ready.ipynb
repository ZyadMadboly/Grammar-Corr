{
 "cells": [
  {
   "cell_type": "markdown",
   "metadata": {
    "id": "oRmIOg44thKO"
   },
   "source": [
    "### Import Libraries and Data"
   ]
  },
  {
   "cell_type": "code",
   "execution_count": 1,
   "metadata": {
    "id": "f7BFwkbbsSPy"
   },
   "outputs": [],
   "source": [
    "import zipfile\n",
    "import pandas as pd\n",
    "import numpy as np\n",
    "import re\n",
    "import matplotlib.pyplot as plt\n",
    "import tensorflow as tf\n",
    "from tensorflow.keras.layers import Embedding, LSTM, Dense,RNN\n",
    "from tensorflow.keras.models import Model\n",
    "from tensorflow.keras.preprocessing.text import Tokenizer\n",
    "from tensorflow.keras.preprocessing.sequence import pad_sequences\n",
    "from tqdm import tqdm\n",
    "from sklearn.model_selection import train_test_split\n",
    "import seaborn as sns\n",
    "import os\n",
    "from datetime import datetime\n",
    "import pytz\n",
    "from tensorflow.keras.callbacks import LearningRateScheduler,TensorBoard,ReduceLROnPlateau\n",
    "from tensorflow.keras.optimizers import Adam,Nadam\n",
    "import warnings\n",
    "warnings.filterwarnings('ignore')\n",
    "import nltk.translate.bleu_score as bleu\n",
    "import random\n",
    "from tqdm import tqdm\n",
    "import shutil\n",
    "import io\n",
    "from nltk.translate.gleu_score import sentence_gleu\n",
    "import pickle"
   ]
  },
  {
   "cell_type": "code",
   "execution_count": 2,
   "metadata": {
    "id": "JTCmODX5tKn3"
   },
   "outputs": [],
   "source": [
    "final_df = pd.read_csv('final_df_preprocessed_2021111201.csv')"
   ]
  },
  {
   "cell_type": "code",
   "execution_count": 3,
   "metadata": {
    "colab": {
     "base_uri": "https://localhost:8080/"
    },
    "executionInfo": {
     "elapsed": 604,
     "status": "ok",
     "timestamp": 1636734474427,
     "user": {
      "displayName": "Rohan Sawant",
      "photoUrl": "https://lh3.googleusercontent.com/a-/AOh14Gjtxl3WLKLbZ5E1Tx7xWJhVsLDUVq_8IKKl-t4jWQ=s64",
      "userId": "08512062062939018513"
     },
     "user_tz": -330
    },
    "id": "ysjVAIQ61_EJ",
    "outputId": "1ed955e2-84e6-4f3f-d575-67daeb719615"
   },
   "outputs": [
    {
     "data": {
      "text/plain": [
       "(266487, 6)"
      ]
     },
     "execution_count": 3,
     "metadata": {},
     "output_type": "execute_result"
    }
   ],
   "source": [
    "final_df = final_df[final_df['incorrect_word_count'] <= 12]\n",
    "final_df.shape"
   ]
  },
  {
   "cell_type": "code",
   "execution_count": 4,
   "metadata": {
    "id": "9SMOGg2r5N1z"
   },
   "outputs": [],
   "source": [
    "final_df = final_df[['correct','incorrect']]"
   ]
  },
  {
   "cell_type": "code",
   "execution_count": 5,
   "metadata": {
    "colab": {
     "base_uri": "https://localhost:8080/",
     "height": 1000
    },
    "executionInfo": {
     "elapsed": 1026,
     "status": "ok",
     "timestamp": 1636734519958,
     "user": {
      "displayName": "Rohan Sawant",
      "photoUrl": "https://lh3.googleusercontent.com/a-/AOh14Gjtxl3WLKLbZ5E1Tx7xWJhVsLDUVq_8IKKl-t4jWQ=s64",
      "userId": "08512062062939018513"
     },
     "user_tz": -330
    },
    "id": "_Pw9RW9N-Nq9",
    "outputId": "be5689fa-758a-4109-c8d8-0e50fdf2484a"
   },
   "outputs": [
    {
     "data": {
      "text/html": [
       "<div>\n",
       "<style scoped>\n",
       "    .dataframe tbody tr th:only-of-type {\n",
       "        vertical-align: middle;\n",
       "    }\n",
       "\n",
       "    .dataframe tbody tr th {\n",
       "        vertical-align: top;\n",
       "    }\n",
       "\n",
       "    .dataframe thead th {\n",
       "        text-align: right;\n",
       "    }\n",
       "</style>\n",
       "<table border=\"1\" class=\"dataframe\">\n",
       "  <thead>\n",
       "    <tr style=\"text-align: right;\">\n",
       "      <th></th>\n",
       "      <th>correct</th>\n",
       "      <th>incorrect</th>\n",
       "    </tr>\n",
       "  </thead>\n",
       "  <tbody>\n",
       "    <tr>\n",
       "      <th>14886</th>\n",
       "      <td>NaN</td>\n",
       "      <td>NaN</td>\n",
       "    </tr>\n",
       "    <tr>\n",
       "      <th>20290</th>\n",
       "      <td>NaN</td>\n",
       "      <td>this `` pen pal `` means simple friends</td>\n",
       "    </tr>\n",
       "    <tr>\n",
       "      <th>42611</th>\n",
       "      <td>NaN</td>\n",
       "      <td>NaN</td>\n",
       "    </tr>\n",
       "    <tr>\n",
       "      <th>45742</th>\n",
       "      <td>D</td>\n",
       "      <td>NaN</td>\n",
       "    </tr>\n",
       "    <tr>\n",
       "      <th>53063</th>\n",
       "      <td>NaN</td>\n",
       "      <td>NaN</td>\n",
       "    </tr>\n",
       "    <tr>\n",
       "      <th>57240</th>\n",
       "      <td>.</td>\n",
       "      <td>NaN</td>\n",
       "    </tr>\n",
       "    <tr>\n",
       "      <th>61930</th>\n",
       "      <td>NaN</td>\n",
       "      <td>I have studying</td>\n",
       "    </tr>\n",
       "    <tr>\n",
       "      <th>78316</th>\n",
       "      <td>NaN</td>\n",
       "      <td>June</td>\n",
       "    </tr>\n",
       "    <tr>\n",
       "      <th>142903</th>\n",
       "      <td>just kidding lol</td>\n",
       "      <td>NaN</td>\n",
       "    </tr>\n",
       "    <tr>\n",
       "      <th>151210</th>\n",
       "      <td>D</td>\n",
       "      <td>NaN</td>\n",
       "    </tr>\n",
       "    <tr>\n",
       "      <th>161916</th>\n",
       "      <td>NaN</td>\n",
       "      <td>NaN</td>\n",
       "    </tr>\n",
       "    <tr>\n",
       "      <th>163402</th>\n",
       "      <td>NaN</td>\n",
       "      <td>I think I will enjoy</td>\n",
       "    </tr>\n",
       "    <tr>\n",
       "      <th>167499</th>\n",
       "      <td>NaN</td>\n",
       "      <td>Because I have failed the practial exam .</td>\n",
       "    </tr>\n",
       "    <tr>\n",
       "      <th>177387</th>\n",
       "      <td>NaN</td>\n",
       "      <td>Take the Other Side  is Position Seriously</td>\n",
       "    </tr>\n",
       "    <tr>\n",
       "      <th>177390</th>\n",
       "      <td>NaN</td>\n",
       "      <td>Depersonalize and Focus on Substance</td>\n",
       "    </tr>\n",
       "    <tr>\n",
       "      <th>182377</th>\n",
       "      <td>NaN</td>\n",
       "      <td>NaN</td>\n",
       "    </tr>\n",
       "    <tr>\n",
       "      <th>205405</th>\n",
       "      <td>. .</td>\n",
       "      <td>NaN</td>\n",
       "    </tr>\n",
       "    <tr>\n",
       "      <th>229158</th>\n",
       "      <td>NaN</td>\n",
       "      <td>NaN</td>\n",
       "    </tr>\n",
       "    <tr>\n",
       "      <th>236169</th>\n",
       "      <td>NaN</td>\n",
       "      <td>NaN</td>\n",
       "    </tr>\n",
       "    <tr>\n",
       "      <th>239479</th>\n",
       "      <td>D</td>\n",
       "      <td>NaN</td>\n",
       "    </tr>\n",
       "    <tr>\n",
       "      <th>247705</th>\n",
       "      <td>P</td>\n",
       "      <td>NaN</td>\n",
       "    </tr>\n",
       "    <tr>\n",
       "      <th>307494</th>\n",
       "      <td>NaN</td>\n",
       "      <td>NaN</td>\n",
       "    </tr>\n",
       "    <tr>\n",
       "      <th>318235</th>\n",
       "      <td>NaN</td>\n",
       "      <td>NaN</td>\n",
       "    </tr>\n",
       "    <tr>\n",
       "      <th>383125</th>\n",
       "      <td>NaN</td>\n",
       "      <td>NaN</td>\n",
       "    </tr>\n",
       "    <tr>\n",
       "      <th>385345</th>\n",
       "      <td>D</td>\n",
       "      <td>NaN</td>\n",
       "    </tr>\n",
       "    <tr>\n",
       "      <th>389059</th>\n",
       "      <td>NaN</td>\n",
       "      <td>more and more .</td>\n",
       "    </tr>\n",
       "    <tr>\n",
       "      <th>411760</th>\n",
       "      <td>NaN</td>\n",
       "      <td>I do not abbr .</td>\n",
       "    </tr>\n",
       "    <tr>\n",
       "      <th>416507</th>\n",
       "      <td>.</td>\n",
       "      <td>NaN</td>\n",
       "    </tr>\n",
       "    <tr>\n",
       "      <th>440721</th>\n",
       "      <td>NaN</td>\n",
       "      <td>Arp</td>\n",
       "    </tr>\n",
       "    <tr>\n",
       "      <th>444412</th>\n",
       "      <td>NaN</td>\n",
       "      <td>photo is my favorite</td>\n",
       "    </tr>\n",
       "    <tr>\n",
       "      <th>446240</th>\n",
       "      <td>NaN</td>\n",
       "      <td>NaN</td>\n",
       "    </tr>\n",
       "    <tr>\n",
       "      <th>465128</th>\n",
       "      <td>NaN</td>\n",
       "      <td>X</td>\n",
       "    </tr>\n",
       "    <tr>\n",
       "      <th>468955</th>\n",
       "      <td>NaN</td>\n",
       "      <td>NaN</td>\n",
       "    </tr>\n",
       "  </tbody>\n",
       "</table>\n",
       "</div>"
      ],
      "text/plain": [
       "                 correct                                   incorrect\n",
       "14886                NaN                                         NaN\n",
       "20290                NaN     this `` pen pal `` means simple friends\n",
       "42611                NaN                                         NaN\n",
       "45742                  D                                         NaN\n",
       "53063                NaN                                         NaN\n",
       "57240                  .                                         NaN\n",
       "61930                NaN                             I have studying\n",
       "78316                NaN                                        June\n",
       "142903  just kidding lol                                         NaN\n",
       "151210                 D                                         NaN\n",
       "161916               NaN                                         NaN\n",
       "163402               NaN                        I think I will enjoy\n",
       "167499               NaN   Because I have failed the practial exam .\n",
       "177387               NaN  Take the Other Side  is Position Seriously\n",
       "177390               NaN        Depersonalize and Focus on Substance\n",
       "182377               NaN                                         NaN\n",
       "205405               . .                                         NaN\n",
       "229158               NaN                                         NaN\n",
       "236169               NaN                                         NaN\n",
       "239479                 D                                         NaN\n",
       "247705                 P                                         NaN\n",
       "307494               NaN                                         NaN\n",
       "318235               NaN                                         NaN\n",
       "383125               NaN                                         NaN\n",
       "385345                 D                                         NaN\n",
       "389059               NaN                             more and more .\n",
       "411760               NaN                             I do not abbr .\n",
       "416507                 .                                         NaN\n",
       "440721               NaN                                         Arp\n",
       "444412               NaN                        photo is my favorite\n",
       "446240               NaN                                         NaN\n",
       "465128               NaN                                           X\n",
       "468955               NaN                                         NaN"
      ]
     },
     "execution_count": 5,
     "metadata": {},
     "output_type": "execute_result"
    }
   ],
   "source": [
    "final_df[final_df.isna().any(axis=1)]"
   ]
  },
  {
   "cell_type": "markdown",
   "metadata": {
    "id": "UrDqyjDl9law"
   },
   "source": [
    "###  Train Test Split"
   ]
  },
  {
   "cell_type": "code",
   "execution_count": 6,
   "metadata": {
    "colab": {
     "base_uri": "https://localhost:8080/",
     "height": 462
    },
    "executionInfo": {
     "elapsed": 925,
     "status": "ok",
     "timestamp": 1636726257331,
     "user": {
      "displayName": "Rohan Sawant",
      "photoUrl": "https://lh3.googleusercontent.com/a-/AOh14Gjtxl3WLKLbZ5E1Tx7xWJhVsLDUVq_8IKKl-t4jWQ=s64",
      "userId": "08512062062939018513"
     },
     "user_tz": -330
    },
    "id": "b_4sAuaS4Uex",
    "outputId": "f161aaff-d088-4d12-9f0e-b58dbd69b517"
   },
   "outputs": [
    {
     "data": {
      "image/png": "[encoded data removed]",
      "text/plain": [
       "<Figure size 1000x700 with 1 Axes>"
      ]
     },
     "metadata": {},
     "output_type": "display_data"
    }
   ],
   "source": [
    "train,test = train_test_split(final_df, test_size=0.1,random_state=15)\n",
    "train,validation = train_test_split(train, test_size=0.1)\n",
    "fig,ax = plt.subplots(figsize =(10, 7))\n",
    "labels_split = ['Train', 'Test','Validation'] \n",
    "sizes_split = [len(train),len(test),len(validation)]\n",
    "pcts_split = [f'{l} Data-{s} Points \\n({s*100/sum(sizes_split):.2f}%)' for s,l in zip(sizes_split, labels_split)] \n",
    "ax.pie(sizes_split, labels = pcts_split, startangle = 90, \n",
    "       explode=(0,0.1,0),textprops = {\"fontsize\":12} )\n",
    "\n",
    "plt.suptitle(f'Splitting of Test & Train Data ', fontsize = 15)\n",
    "plt.title(f'(No Of Data Points:{sum(sizes_split)}) ', fontsize = 12)\n",
    "plt.show()"
   ]
  },
  {
   "cell_type": "code",
   "execution_count": 7,
   "metadata": {
    "id": "4-NDeQ6KlVmS"
   },
   "outputs": [],
   "source": [
    "train['dec_correct_inp'] = '<start> ' + train['correct'].astype(str)\n",
    "train['dec_correct_out'] = train['correct'].astype(str) + ' <end>'\n",
    "\n",
    "validation['dec_correct_inp'] = '<start> ' + validation['correct'].astype(str)\n",
    "validation['dec_correct_out'] = validation['correct'].astype(str) + ' <end>'\n",
    "\n",
    "test['dec_correct_inp'] = '<start> ' + test['correct'].astype(str)\n",
    "test['dec_correct_out'] = test['correct'].astype(str) + ' <end>'"
   ]
  },
  {
   "cell_type": "code",
   "execution_count": 8,
   "metadata": {
    "colab": {
     "base_uri": "https://localhost:8080/",
     "height": 203
    },
    "executionInfo": {
     "elapsed": 853,
     "status": "ok",
     "timestamp": 1636726276947,
     "user": {
      "displayName": "Rohan Sawant",
      "photoUrl": "https://lh3.googleusercontent.com/a-/AOh14Gjtxl3WLKLbZ5E1Tx7xWJhVsLDUVq_8IKKl-t4jWQ=s64",
      "userId": "08512062062939018513"
     },
     "user_tz": -330
    },
    "id": "JQtY1DoQfUC3",
    "outputId": "4239d7d4-390f-4150-89a4-5e4c40f46610"
   },
   "outputs": [
    {
     "data": {
      "text/html": [
       "<div>\n",
       "<style scoped>\n",
       "    .dataframe tbody tr th:only-of-type {\n",
       "        vertical-align: middle;\n",
       "    }\n",
       "\n",
       "    .dataframe tbody tr th {\n",
       "        vertical-align: top;\n",
       "    }\n",
       "\n",
       "    .dataframe thead th {\n",
       "        text-align: right;\n",
       "    }\n",
       "</style>\n",
       "<table border=\"1\" class=\"dataframe\">\n",
       "  <thead>\n",
       "    <tr style=\"text-align: right;\">\n",
       "      <th></th>\n",
       "      <th>correct</th>\n",
       "      <th>incorrect</th>\n",
       "      <th>dec_correct_inp</th>\n",
       "      <th>dec_correct_out</th>\n",
       "    </tr>\n",
       "  </thead>\n",
       "  <tbody>\n",
       "    <tr>\n",
       "      <th>81232</th>\n",
       "      <td>We are lookingtopromotion .</td>\n",
       "      <td>We are looking forword to thier promotion .</td>\n",
       "      <td>&lt;start&gt; We are lookingtopromotion .</td>\n",
       "      <td>We are lookingtopromotion . &lt;end&gt;</td>\n",
       "    </tr>\n",
       "    <tr>\n",
       "      <th>413197</th>\n",
       "      <td>I do  not have any classes today ,</td>\n",
       "      <td>I  am not having any class today .</td>\n",
       "      <td>&lt;start&gt; I do  not have any classes today ,</td>\n",
       "      <td>I do  not have any classes today , &lt;end&gt;</td>\n",
       "    </tr>\n",
       "    <tr>\n",
       "      <th>132031</th>\n",
       "      <td>I  am growing some vegetables .</td>\n",
       "      <td>I grow some vegetables .</td>\n",
       "      <td>&lt;start&gt; I  am growing some vegetables .</td>\n",
       "      <td>I  am growing some vegetables . &lt;end&gt;</td>\n",
       "    </tr>\n",
       "    <tr>\n",
       "      <th>50763</th>\n",
       "      <td>My second son is one year old .</td>\n",
       "      <td>My second son is one years old .</td>\n",
       "      <td>&lt;start&gt; My second son is one year old .</td>\n",
       "      <td>My second son is one year old . &lt;end&gt;</td>\n",
       "    </tr>\n",
       "    <tr>\n",
       "      <th>203804</th>\n",
       "      <td>But many other people want to use it too .</td>\n",
       "      <td>But many other people want to use it .</td>\n",
       "      <td>&lt;start&gt; But many other people want to use it t...</td>\n",
       "      <td>But many other people want to use it too . &lt;end&gt;</td>\n",
       "    </tr>\n",
       "  </tbody>\n",
       "</table>\n",
       "</div>"
      ],
      "text/plain": [
       "                                           correct  \\\n",
       "81232                  We are lookingtopromotion .   \n",
       "413197          I do  not have any classes today ,   \n",
       "132031             I  am growing some vegetables .   \n",
       "50763              My second son is one year old .   \n",
       "203804  But many other people want to use it too .   \n",
       "\n",
       "                                          incorrect  \\\n",
       "81232   We are looking forword to thier promotion .   \n",
       "413197           I  am not having any class today .   \n",
       "132031                     I grow some vegetables .   \n",
       "50763              My second son is one years old .   \n",
       "203804       But many other people want to use it .   \n",
       "\n",
       "                                          dec_correct_inp  \\\n",
       "81232                 <start> We are lookingtopromotion .   \n",
       "413197         <start> I do  not have any classes today ,   \n",
       "132031            <start> I  am growing some vegetables .   \n",
       "50763             <start> My second son is one year old .   \n",
       "203804  <start> But many other people want to use it t...   \n",
       "\n",
       "                                         dec_correct_out  \n",
       "81232                  We are lookingtopromotion . <end>  \n",
       "413197          I do  not have any classes today , <end>  \n",
       "132031             I  am growing some vegetables . <end>  \n",
       "50763              My second son is one year old . <end>  \n",
       "203804  But many other people want to use it too . <end>  "
      ]
     },
     "execution_count": 8,
     "metadata": {},
     "output_type": "execute_result"
    }
   ],
   "source": [
    "train.sample(5)"
   ]
  },
  {
   "cell_type": "code",
   "execution_count": 9,
   "metadata": {
    "colab": {
     "base_uri": "https://localhost:8080/",
     "height": 203
    },
    "executionInfo": {
     "elapsed": 2872,
     "status": "ok",
     "timestamp": 1636726282818,
     "user": {
      "displayName": "Rohan Sawant",
      "photoUrl": "https://lh3.googleusercontent.com/a-/AOh14Gjtxl3WLKLbZ5E1Tx7xWJhVsLDUVq_8IKKl-t4jWQ=s64",
      "userId": "08512062062939018513"
     },
     "user_tz": -330
    },
    "id": "RHpXxQpbfUC5",
    "outputId": "f9275b7a-d3e0-4156-930b-f0a2b0e2565c"
   },
   "outputs": [
    {
     "data": {
      "text/html": [
       "<div>\n",
       "<style scoped>\n",
       "    .dataframe tbody tr th:only-of-type {\n",
       "        vertical-align: middle;\n",
       "    }\n",
       "\n",
       "    .dataframe tbody tr th {\n",
       "        vertical-align: top;\n",
       "    }\n",
       "\n",
       "    .dataframe thead th {\n",
       "        text-align: right;\n",
       "    }\n",
       "</style>\n",
       "<table border=\"1\" class=\"dataframe\">\n",
       "  <thead>\n",
       "    <tr style=\"text-align: right;\">\n",
       "      <th></th>\n",
       "      <th>correct</th>\n",
       "      <th>incorrect</th>\n",
       "      <th>dec_correct_inp</th>\n",
       "      <th>dec_correct_out</th>\n",
       "    </tr>\n",
       "  </thead>\n",
       "  <tbody>\n",
       "    <tr>\n",
       "      <th>228514</th>\n",
       "      <td>Singing is a good way I can refresh .</td>\n",
       "      <td>Singing is the good way I can refresh .</td>\n",
       "      <td>&lt;start&gt; Singing is a good way I can refresh .</td>\n",
       "      <td>Singing is a good way I can refresh . &lt;end&gt;</td>\n",
       "    </tr>\n",
       "    <tr>\n",
       "      <th>481275</th>\n",
       "      <td>It would be too cold .</td>\n",
       "      <td>It must be too cold .</td>\n",
       "      <td>&lt;start&gt; It would be too cold .</td>\n",
       "      <td>It would be too cold . &lt;end&gt;</td>\n",
       "    </tr>\n",
       "    <tr>\n",
       "      <th>21243</th>\n",
       "      <td>I want one like a Muji note .</td>\n",
       "      <td>I want like Muji note .</td>\n",
       "      <td>&lt;start&gt; I want one like a Muji note .</td>\n",
       "      <td>I want one like a Muji note . &lt;end&gt;</td>\n",
       "    </tr>\n",
       "    <tr>\n",
       "      <th>385792</th>\n",
       "      <td>Yesterday morning , I did  not check a weather...</td>\n",
       "      <td>Yesterday morning , I did  not check a wether ...</td>\n",
       "      <td>&lt;start&gt; Yesterday morning , I did  not check a...</td>\n",
       "      <td>Yesterday morning , I did  not check a weather...</td>\n",
       "    </tr>\n",
       "    <tr>\n",
       "      <th>144880</th>\n",
       "      <td>But , I  will be very busy tomorrow .</td>\n",
       "      <td>But , I will be very busy tomorrow .</td>\n",
       "      <td>&lt;start&gt; But , I  will be very busy tomorrow .</td>\n",
       "      <td>But , I  will be very busy tomorrow . &lt;end&gt;</td>\n",
       "    </tr>\n",
       "  </tbody>\n",
       "</table>\n",
       "</div>"
      ],
      "text/plain": [
       "                                                  correct  \\\n",
       "228514              Singing is a good way I can refresh .   \n",
       "481275                             It would be too cold .   \n",
       "21243                       I want one like a Muji note .   \n",
       "385792  Yesterday morning , I did  not check a weather...   \n",
       "144880              But , I  will be very busy tomorrow .   \n",
       "\n",
       "                                                incorrect  \\\n",
       "228514            Singing is the good way I can refresh .   \n",
       "481275                              It must be too cold .   \n",
       "21243                             I want like Muji note .   \n",
       "385792  Yesterday morning , I did  not check a wether ...   \n",
       "144880               But , I will be very busy tomorrow .   \n",
       "\n",
       "                                          dec_correct_inp  \\\n",
       "228514      <start> Singing is a good way I can refresh .   \n",
       "481275                     <start> It would be too cold .   \n",
       "21243               <start> I want one like a Muji note .   \n",
       "385792  <start> Yesterday morning , I did  not check a...   \n",
       "144880      <start> But , I  will be very busy tomorrow .   \n",
       "\n",
       "                                          dec_correct_out  \n",
       "228514        Singing is a good way I can refresh . <end>  \n",
       "481275                       It would be too cold . <end>  \n",
       "21243                 I want one like a Muji note . <end>  \n",
       "385792  Yesterday morning , I did  not check a weather...  \n",
       "144880        But , I  will be very busy tomorrow . <end>  "
      ]
     },
     "execution_count": 9,
     "metadata": {},
     "output_type": "execute_result"
    }
   ],
   "source": [
    "test.sample(5)"
   ]
  },
  {
   "cell_type": "code",
   "execution_count": 10,
   "metadata": {
    "colab": {
     "base_uri": "https://localhost:8080/",
     "height": 203
    },
    "executionInfo": {
     "elapsed": 616,
     "status": "ok",
     "timestamp": 1636726289780,
     "user": {
      "displayName": "Rohan Sawant",
      "photoUrl": "https://lh3.googleusercontent.com/a-/AOh14Gjtxl3WLKLbZ5E1Tx7xWJhVsLDUVq_8IKKl-t4jWQ=s64",
      "userId": "08512062062939018513"
     },
     "user_tz": -330
    },
    "id": "yPk0uypZfUC6",
    "outputId": "7894ae9d-3eea-46f4-cfaa-5e2ed80ee8c5"
   },
   "outputs": [
    {
     "data": {
      "text/html": [
       "<div>\n",
       "<style scoped>\n",
       "    .dataframe tbody tr th:only-of-type {\n",
       "        vertical-align: middle;\n",
       "    }\n",
       "\n",
       "    .dataframe tbody tr th {\n",
       "        vertical-align: top;\n",
       "    }\n",
       "\n",
       "    .dataframe thead th {\n",
       "        text-align: right;\n",
       "    }\n",
       "</style>\n",
       "<table border=\"1\" class=\"dataframe\">\n",
       "  <thead>\n",
       "    <tr style=\"text-align: right;\">\n",
       "      <th></th>\n",
       "      <th>correct</th>\n",
       "      <th>incorrect</th>\n",
       "      <th>dec_correct_inp</th>\n",
       "      <th>dec_correct_out</th>\n",
       "    </tr>\n",
       "  </thead>\n",
       "  <tbody>\n",
       "    <tr>\n",
       "      <th>232177</th>\n",
       "      <td>Yesterday was my birthday !</td>\n",
       "      <td>yesterday was my birthday !</td>\n",
       "      <td>&lt;start&gt; Yesterday was my birthday !</td>\n",
       "      <td>Yesterday was my birthday ! &lt;end&gt;</td>\n",
       "    </tr>\n",
       "    <tr>\n",
       "      <th>121696</th>\n",
       "      <td>Title Summer</td>\n",
       "      <td>name Summer</td>\n",
       "      <td>&lt;start&gt; Title Summer</td>\n",
       "      <td>Title Summer &lt;end&gt;</td>\n",
       "    </tr>\n",
       "    <tr>\n",
       "      <th>334860</th>\n",
       "      <td>I  have been there times .</td>\n",
       "      <td>I had a times to go there .</td>\n",
       "      <td>&lt;start&gt; I  have been there times .</td>\n",
       "      <td>I  have been there times . &lt;end&gt;</td>\n",
       "    </tr>\n",
       "    <tr>\n",
       "      <th>163662</th>\n",
       "      <td>He discovered the Fibonacci numbers .</td>\n",
       "      <td>He discovered Fibonacci number .</td>\n",
       "      <td>&lt;start&gt; He discovered the Fibonacci numbers .</td>\n",
       "      <td>He discovered the Fibonacci numbers . &lt;end&gt;</td>\n",
       "    </tr>\n",
       "    <tr>\n",
       "      <th>155048</th>\n",
       "      <td>I was happy to see them .</td>\n",
       "      <td>I  am happy to see them .</td>\n",
       "      <td>&lt;start&gt; I was happy to see them .</td>\n",
       "      <td>I was happy to see them . &lt;end&gt;</td>\n",
       "    </tr>\n",
       "  </tbody>\n",
       "</table>\n",
       "</div>"
      ],
      "text/plain": [
       "                                      correct  \\\n",
       "232177            Yesterday was my birthday !   \n",
       "121696                           Title Summer   \n",
       "334860             I  have been there times .   \n",
       "163662  He discovered the Fibonacci numbers .   \n",
       "155048              I was happy to see them .   \n",
       "\n",
       "                               incorrect  \\\n",
       "232177       yesterday was my birthday !   \n",
       "121696                       name Summer   \n",
       "334860       I had a times to go there .   \n",
       "163662  He discovered Fibonacci number .   \n",
       "155048         I  am happy to see them .   \n",
       "\n",
       "                                      dec_correct_inp  \\\n",
       "232177            <start> Yesterday was my birthday !   \n",
       "121696                           <start> Title Summer   \n",
       "334860             <start> I  have been there times .   \n",
       "163662  <start> He discovered the Fibonacci numbers .   \n",
       "155048              <start> I was happy to see them .   \n",
       "\n",
       "                                    dec_correct_out  \n",
       "232177            Yesterday was my birthday ! <end>  \n",
       "121696                           Title Summer <end>  \n",
       "334860             I  have been there times . <end>  \n",
       "163662  He discovered the Fibonacci numbers . <end>  \n",
       "155048              I was happy to see them . <end>  "
      ]
     },
     "execution_count": 10,
     "metadata": {},
     "output_type": "execute_result"
    }
   ],
   "source": [
    "validation.sample(5)"
   ]
  },
  {
   "cell_type": "code",
   "execution_count": 12,
   "metadata": {
    "id": "a6aWRnNR4zXl"
   },
   "outputs": [],
   "source": [
    "train.to_csv('train_20211112.csv')\n",
    "validation.to_csv('validation_20211112.csv')\n",
    "test.to_csv('test_20211112.csv')"
   ]
  },
  {
   "cell_type": "markdown",
   "metadata": {
    "id": "BZzY0nGG-4Ii"
   },
   "source": [
    "### Tokenizer"
   ]
  },
  {
   "cell_type": "code",
   "execution_count": 13,
   "metadata": {
    "id": "YsfsJxuP-pLF"
   },
   "outputs": [],
   "source": [
    "tokenizer_enc = Tokenizer(filters='#$%&()*+/=?@[\\\\]^_`{|}~\\t\\n',lower=False)\n",
    "tokenizer_enc.fit_on_texts(train['incorrect'].astype(str).values)"
   ]
  },
  {
   "cell_type": "code",
   "execution_count": 14,
   "metadata": {
    "id": "RN9WGTNNnFEt"
   },
   "outputs": [],
   "source": [
    "tokenizer_dec = Tokenizer(filters='#$%&()*+/=?@[\\\\]^_`{|}~\\t\\n',lower=False)\n",
    "tokenizer_dec.fit_on_texts(train['dec_correct_inp'].astype(str).values)"
   ]
  },
  {
   "cell_type": "code",
   "execution_count": 15,
   "metadata": {
    "colab": {
     "base_uri": "https://localhost:8080/"
    },
    "executionInfo": {
     "elapsed": 13,
     "status": "ok",
     "timestamp": 1636726317882,
     "user": {
      "displayName": "Rohan Sawant",
      "photoUrl": "https://lh3.googleusercontent.com/a-/AOh14Gjtxl3WLKLbZ5E1Tx7xWJhVsLDUVq_8IKKl-t4jWQ=s64",
      "userId": "08512062062939018513"
     },
     "user_tz": -330
    },
    "id": "zHrsW-DR-_M0",
    "outputId": "977b22d6-8920-412c-bc9e-75d2869ab6c2"
   },
   "outputs": [
    {
     "name": "stdout",
     "output_type": "stream",
     "text": [
      "Encoder words vocab size: 51869\n"
     ]
    }
   ],
   "source": [
    "vocab_size_enc=len(tokenizer_enc.word_index.keys())\n",
    "print('Encoder words vocab size:',vocab_size_enc)"
   ]
  },
  {
   "cell_type": "code",
   "execution_count": 16,
   "metadata": {
    "colab": {
     "base_uri": "https://localhost:8080/"
    },
    "executionInfo": {
     "elapsed": 726,
     "status": "ok",
     "timestamp": 1636726322648,
     "user": {
      "displayName": "Rohan Sawant",
      "photoUrl": "https://lh3.googleusercontent.com/a-/AOh14Gjtxl3WLKLbZ5E1Tx7xWJhVsLDUVq_8IKKl-t4jWQ=s64",
      "userId": "08512062062939018513"
     },
     "user_tz": -330
    },
    "id": "C0zEmjSlnHBX",
    "outputId": "15eeca00-719a-4732-ea61-00ac72d592b8"
   },
   "outputs": [
    {
     "name": "stdout",
     "output_type": "stream",
     "text": [
      "Decoder words vocab size:: 43078\n"
     ]
    }
   ],
   "source": [
    "vocab_size_dec=len(tokenizer_dec.word_index.keys())\n",
    "print('Decoder words vocab size::',vocab_size_dec)"
   ]
  },
  {
   "cell_type": "code",
   "execution_count": 17,
   "metadata": {
    "colab": {
     "base_uri": "https://localhost:8080/"
    },
    "executionInfo": {
     "elapsed": 824,
     "status": "ok",
     "timestamp": 1636726334318,
     "user": {
      "displayName": "Rohan Sawant",
      "photoUrl": "https://lh3.googleusercontent.com/a-/AOh14Gjtxl3WLKLbZ5E1Tx7xWJhVsLDUVq_8IKKl-t4jWQ=s64",
      "userId": "08512062062939018513"
     },
     "user_tz": -330
    },
    "id": "CvDBGPrtfw5K",
    "outputId": "20568049-a958-4545-e914-8eb45c82a5b5"
   },
   "outputs": [
    {
     "data": {
      "text/plain": [
       "(1, None)"
      ]
     },
     "execution_count": 17,
     "metadata": {},
     "output_type": "execute_result"
    }
   ],
   "source": [
    "tokenizer_dec.word_index['<start>'],tokenizer_dec.word_index.get('<end>', None)"
   ]
  },
  {
   "cell_type": "code",
   "execution_count": 18,
   "metadata": {
    "id": "m0Ymu133Ti64"
   },
   "outputs": [],
   "source": [
    "tokenizer_dec.word_index['<end>'] = max(tokenizer_dec.word_index.values()) + 1"
   ]
  },
  {
   "cell_type": "code",
   "execution_count": 22,
   "metadata": {
    "id": "5UMlVy2s7PBn"
   },
   "outputs": [],
   "source": [
    "with open('tokenizer_enc_20211112.pkl', 'wb') as f:\n",
    "    pickle.dump(tokenizer_enc, f)\n",
    "\n",
    "with open('tokenizer_dec_20211112.pkl', 'wb') as f:\n",
    "    pickle.dump(tokenizer_dec, f)"
   ]
  },
  {
   "cell_type": "code",
   "execution_count": null,
   "metadata": {
    "id": "lw677s_gmHX4"
   },
   "outputs": [],
   "source": []
  },
  {
   "cell_type": "code",
   "execution_count": 23,
   "metadata": {
    "id": "N-0RObU7mHpq"
   },
   "outputs": [
    {
     "name": "stdout",
     "output_type": "stream",
     "text": [
      "Encoder words vocab size: 51869\n",
      "Decoder words vocab size:: 43078\n"
     ]
    }
   ],
   "source": [
    "tokenizer_enc = Tokenizer(filters='#$%&()*+/=?@[\\\\]^_`{|}~\\t\\n',lower=False)\n",
    "tokenizer_enc.fit_on_texts(train['incorrect'].astype(str).values)\n",
    "tokenizer_dec = Tokenizer(filters='#$%&()*+/=?@[\\\\]^_`{|}~\\t\\n',lower=False)\n",
    "tokenizer_dec.fit_on_texts(train['dec_correct_inp'].astype(str).values)\n",
    "\n",
    "vocab_size_enc=len(tokenizer_enc.word_index.keys())\n",
    "print('Encoder words vocab size:',vocab_size_enc)\n",
    "vocab_size_dec=len(tokenizer_dec.word_index.keys())\n",
    "print('Decoder words vocab size::',vocab_size_dec)\n",
    "\n",
    "tokenizer_dec.word_index['<start>'],tokenizer_dec.word_index.get('<end>', None)\n",
    "tokenizer_dec.word_index['<end>'] = max(tokenizer_dec.word_index.values()) + 1\n",
    "\n",
    "#text2seq\n",
    "train_enc_inp = tokenizer_enc.texts_to_sequences(train['incorrect'].astype(str).values)\n",
    "validation_enc_inp = tokenizer_enc.texts_to_sequences(validation['incorrect'].astype(str).values)\n",
    "test_enc_inp = tokenizer_enc.texts_to_sequences(test['incorrect'].astype(str).values)\n",
    "\n",
    "#padding\n",
    "max_seq_len = 12\n",
    "train_enc_inp = pad_sequences(train_enc_inp, maxlen=max_seq_len, padding='post', truncating='post')\n",
    "validation_enc_inp = pad_sequences(validation_enc_inp, maxlen=max_seq_len, padding='post', truncating='post')\n",
    "\n",
    "#text2seq\n",
    "train_dec_inp = tokenizer_dec.texts_to_sequences(train['dec_correct_inp'].astype(str).values)\n",
    "validation_dec_inp = tokenizer_dec.texts_to_sequences(validation['dec_correct_inp'].astype(str).values)\n",
    "\n",
    "#padding\n",
    "train_dec_inp = pad_sequences(train_dec_inp, maxlen=max_seq_len+1, padding='post', truncating='post')\n",
    "validation_dec_inp = pad_sequences(validation_dec_inp, maxlen=max_seq_len+1, padding='post', truncating='post')\n",
    "\n",
    "#text2seq\n",
    "train_dec_out = tokenizer_dec.texts_to_sequences(train['dec_correct_out'].astype(str).values)\n",
    "validation_dec_out = tokenizer_dec.texts_to_sequences(validation['dec_correct_out'].astype(str).values)\n",
    "\n",
    "#padding\n",
    "train_dec_out = pad_sequences(train_dec_out, maxlen=max_seq_len+1, padding='post', truncating='post')\n",
    "validation_dec_out = pad_sequences(validation_dec_out, maxlen=max_seq_len+1, padding='post', truncating='post')"
   ]
  },
  {
   "cell_type": "markdown",
   "metadata": {
    "id": "s3AwLF0JUtvG"
   },
   "source": [
    "### Text to Sequence"
   ]
  },
  {
   "cell_type": "code",
   "execution_count": 24,
   "metadata": {
    "colab": {
     "base_uri": "https://localhost:8080/",
     "height": 407
    },
    "executionInfo": {
     "elapsed": 4606,
     "status": "ok",
     "timestamp": 1636726392091,
     "user": {
      "displayName": "Rohan Sawant",
      "photoUrl": "https://lh3.googleusercontent.com/a-/AOh14Gjtxl3WLKLbZ5E1Tx7xWJhVsLDUVq_8IKKl-t4jWQ=s64",
      "userId": "08512062062939018513"
     },
     "user_tz": -330
    },
    "id": "yyniB_eHQMfI",
    "outputId": "f7f954ed-44c6-46dc-bf1b-74b245fdb55c"
   },
   "outputs": [
    {
     "name": "stdout",
     "output_type": "stream",
     "text": [
      "Mean Word Count:8.385075097056344\n"
     ]
    },
    {
     "data": {
      "image/png": "[encoded data removed]",
      "text/plain": [
       "<Figure size 1300x600 with 1 Axes>"
      ]
     },
     "metadata": {},
     "output_type": "display_data"
    }
   ],
   "source": [
    "content=train['incorrect'].astype('str')\n",
    "content_word_count=[len(content.iloc[i].split()) for i in range(len(content))]\n",
    "mean_word_count=np.mean(content_word_count)\n",
    "print(f'Mean Word Count:{mean_word_count}')\n",
    "index=[i for i in range(0,len(content_word_count))]\n",
    "fig, ax=plt.subplots(figsize=(13, 6))\n",
    "plt.plot(index,sorted(content_word_count))\n",
    "plt.grid()\n",
    "plt.title(\"Wordcount distribution\")\n",
    "plt.ylabel(\"Word Count\")\n",
    "plt.show()"
   ]
  },
  {
   "cell_type": "code",
   "execution_count": 25,
   "metadata": {
    "id": "WE9xSS0eU9za"
   },
   "outputs": [],
   "source": [
    "#text2seq\n",
    "train_enc_inp = tokenizer_enc.texts_to_sequences(train['incorrect'].astype(str).values)\n",
    "validation_enc_inp = tokenizer_enc.texts_to_sequences(validation['incorrect'].astype(str).values)\n",
    "test_enc_inp = tokenizer_enc.texts_to_sequences(test['incorrect'].astype(str).values)\n",
    "\n",
    "#padding\n",
    "max_seq_len = 12\n",
    "train_enc_inp = pad_sequences(train_enc_inp, maxlen=max_seq_len, padding='post', truncating='post')\n",
    "validation_enc_inp = pad_sequences(validation_enc_inp, maxlen=max_seq_len, padding='post', truncating='post')\n",
    "test_enc_inp = pad_sequences(test_enc_inp, maxlen=max_seq_len, padding='post', truncating='post')"
   ]
  },
  {
   "cell_type": "code",
   "execution_count": 26,
   "metadata": {
    "id": "CjAJBKUuVRbE"
   },
   "outputs": [],
   "source": [
    "#text2seq\n",
    "train_dec_inp = tokenizer_dec.texts_to_sequences(train['dec_correct_inp'].astype(str).values)\n",
    "validation_dec_inp = tokenizer_dec.texts_to_sequences(validation['dec_correct_inp'].astype(str).values)\n",
    "test_dec_inp = tokenizer_dec.texts_to_sequences(test['dec_correct_inp'].astype(str).values)\n",
    "\n",
    "#padding\n",
    "train_dec_inp = pad_sequences(train_dec_inp, maxlen=max_seq_len+1, padding='post', truncating='post')\n",
    "validation_dec_inp = pad_sequences(validation_dec_inp, maxlen=max_seq_len+1, padding='post', truncating='post')\n",
    "test_dec_inp = pad_sequences(test_dec_inp, maxlen=max_seq_len+1, padding='post', truncating='post')"
   ]
  },
  {
   "cell_type": "code",
   "execution_count": 27,
   "metadata": {
    "id": "sAwlKSSnYFwc"
   },
   "outputs": [],
   "source": [
    "#text2seq\n",
    "train_dec_out = tokenizer_dec.texts_to_sequences(train['dec_correct_out'].astype(str).values)\n",
    "validation_dec_out = tokenizer_dec.texts_to_sequences(validation['dec_correct_out'].astype(str).values)\n",
    "test_dec_out = tokenizer_dec.texts_to_sequences(test['dec_correct_out'].astype(str).values)\n",
    "\n",
    "#padding\n",
    "train_dec_out = pad_sequences(train_dec_out, maxlen=max_seq_len+1, padding='post', truncating='post')\n",
    "validation_dec_out = pad_sequences(validation_dec_out, maxlen=max_seq_len+1, padding='post', truncating='post')\n",
    "test_dec_out = pad_sequences(test_dec_out, maxlen=max_seq_len+1, padding='post', truncating='post')"
   ]
  },
  {
   "cell_type": "code",
   "execution_count": 29,
   "metadata": {
    "id": "mDwqgspufz36"
   },
   "outputs": [],
   "source": [
    "with open('train_enc_inp_20211112.pkl', 'wb') as f:\n",
    "  pickle.dump(train_enc_inp, f)\n",
    "\n",
    "with open('val_enc_inp_20211112.pkl', 'wb') as f:\n",
    "  pickle.dump(validation_enc_inp, f)\n",
    "\n",
    "with open('test_enc_inp_20211112.pkl', 'wb') as f:\n",
    "  pickle.dump(test_enc_inp, f)"
   ]
  },
  {
   "cell_type": "code",
   "execution_count": 30,
   "metadata": {
    "id": "4x6U6__WgxzX"
   },
   "outputs": [],
   "source": [
    "with open('train_dec_inp_20211112.pkl', 'wb') as f:\n",
    "  pickle.dump(train_dec_inp, f)\n",
    "\n",
    "with open('val_dec_inp_20211112.pkl', 'wb') as f:\n",
    "  pickle.dump(validation_dec_inp, f)\n",
    "\n",
    "with open('test_dec_inp_20211112.pkl', 'wb') as f:\n",
    "  pickle.dump(test_dec_inp, f)"
   ]
  },
  {
   "cell_type": "code",
   "execution_count": 31,
   "metadata": {
    "id": "xOw0MYR6g-OR"
   },
   "outputs": [],
   "source": [
    "with open('train_dec_out_20211112.pkl', 'wb') as f:\n",
    "  pickle.dump(train_dec_out, f)\n",
    "\n",
    "with open('val_dec_out_20211112.pkl', 'wb') as f:\n",
    "  pickle.dump(validation_dec_out, f)\n",
    "\n",
    "with open('test_dec_out_20211112.pkl', 'wb') as f:\n",
    "  pickle.dump(test_dec_out, f)"
   ]
  },
  {
   "cell_type": "code",
   "execution_count": null,
   "metadata": {},
   "outputs": [],
   "source": []
  }
 ],
 "metadata": {
  "colab": {
   "authorship_tag": "ABX9TyOV/P/CP5nMav1qsaeqWkM5",
   "mount_file_id": "1MWUEkTwdB5r7YupZJ99ZnTphrG9PyWtN",
   "name": "CS02.04 Make data model ready",
   "provenance": []
  },
  "kernelspec": {
   "display_name": "Python 3 (ipykernel)",
   "language": "python",
   "name": "python3"
  },
  "language_info": {
   "codemirror_mode": {
    "name": "ipython",
    "version": 3
   },
   "file_extension": ".py",
   "mimetype": "text/x-python",
   "name": "python",
   "nbconvert_exporter": "python",
   "pygments_lexer": "ipython3",
   "version": "3.10.9"
  }
 },
 "nbformat": 4,
 "nbformat_minor": 1
}
