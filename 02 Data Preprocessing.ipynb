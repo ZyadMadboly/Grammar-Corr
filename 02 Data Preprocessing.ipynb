{
 "cells": [
  {
   "cell_type": "markdown",
   "metadata": {
    "id": "5SBh1JQ0_jgv"
   },
   "source": [
    "## Import libraries & data"
   ]
  },
  {
   "cell_type": "code",
   "execution_count": 1,
   "metadata": {
    "id": "IDTW9XJZ6K3U"
   },
   "outputs": [],
   "source": [
    "import warnings\n",
    "warnings.filterwarnings(\"ignore\")\n",
    "import pandas as pd\n",
    "import re\n",
    "from tqdm.auto import tqdm\n",
    "tqdm.pandas()"
   ]
  },
  {
   "cell_type": "code",
   "execution_count": 2,
   "metadata": {
    "id": "ALYLKnlQ_qxG"
   },
   "outputs": [],
   "source": [
    "final_df = pd.read_csv('final_df_20211027.csv')"
   ]
  },
  {
   "cell_type": "code",
   "execution_count": 3,
   "metadata": {
    "colab": {
     "base_uri": "https://localhost:8080/",
     "height": 203
    },
    "executionInfo": {
     "elapsed": 22,
     "status": "ok",
     "timestamp": 1636733736338,
     "user": {
      "displayName": "Rohan Sawant",
      "photoUrl": "https://lh3.googleusercontent.com/a-/AOh14Gjtxl3WLKLbZ5E1Tx7xWJhVsLDUVq_8IKKl-t4jWQ=s64",
      "userId": "08512062062939018513"
     },
     "user_tz": -330
    },
    "id": "_1YrBXIj_25-",
    "outputId": "687945ae-405a-4d76-ab30-3db586925c37"
   },
   "outputs": [
    {
     "data": {
      "text/html": [
       "<div>\n",
       "<style scoped>\n",
       "    .dataframe tbody tr th:only-of-type {\n",
       "        vertical-align: middle;\n",
       "    }\n",
       "\n",
       "    .dataframe tbody tr th {\n",
       "        vertical-align: top;\n",
       "    }\n",
       "\n",
       "    .dataframe thead th {\n",
       "        text-align: right;\n",
       "    }\n",
       "</style>\n",
       "<table border=\"1\" class=\"dataframe\">\n",
       "  <thead>\n",
       "    <tr style=\"text-align: right;\">\n",
       "      <th></th>\n",
       "      <th>correct</th>\n",
       "      <th>incorrect</th>\n",
       "    </tr>\n",
       "  </thead>\n",
       "  <tbody>\n",
       "    <tr>\n",
       "      <th>956262</th>\n",
       "      <td>( I am going to omit why this accident occured...</td>\n",
       "      <td>( I am going to omit why this accident occured...</td>\n",
       "    </tr>\n",
       "    <tr>\n",
       "      <th>604001</th>\n",
       "      <td>I work at a Hotel in Japan .</td>\n",
       "      <td>I work at a Hotel in Japan .</td>\n",
       "    </tr>\n",
       "    <tr>\n",
       "      <th>709700</th>\n",
       "      <td>I 'm going to talk about it here . hehe</td>\n",
       "      <td>I 'm going to talk about it here . hehe</td>\n",
       "    </tr>\n",
       "    <tr>\n",
       "      <th>20014</th>\n",
       "      <td>My wife took part in a mini - car racing game .</td>\n",
       "      <td>My wife took part of a mini - car racing game .</td>\n",
       "    </tr>\n",
       "    <tr>\n",
       "      <th>176213</th>\n",
       "      <td>I love to feel the fresh air on my face .</td>\n",
       "      <td>I love to feel the fresh air in my face n .</td>\n",
       "    </tr>\n",
       "  </tbody>\n",
       "</table>\n",
       "</div>"
      ],
      "text/plain": [
       "                                                  correct  \\\n",
       "956262  ( I am going to omit why this accident occured...   \n",
       "604001                       I work at a Hotel in Japan .   \n",
       "709700            I 'm going to talk about it here . hehe   \n",
       "20014     My wife took part in a mini - car racing game .   \n",
       "176213          I love to feel the fresh air on my face .   \n",
       "\n",
       "                                                incorrect  \n",
       "956262  ( I am going to omit why this accident occured...  \n",
       "604001                       I work at a Hotel in Japan .  \n",
       "709700            I 'm going to talk about it here . hehe  \n",
       "20014     My wife took part of a mini - car racing game .  \n",
       "176213        I love to feel the fresh air in my face n .  "
      ]
     },
     "execution_count": 3,
     "metadata": {},
     "output_type": "execute_result"
    }
   ],
   "source": [
    "final_df.sample(5)"
   ]
  },
  {
   "cell_type": "code",
   "execution_count": 4,
   "metadata": {
    "colab": {
     "base_uri": "https://localhost:8080/"
    },
    "executionInfo": {
     "elapsed": 13,
     "status": "ok",
     "timestamp": 1637885426886,
     "user": {
      "displayName": "Rohan Sawant",
      "photoUrl": "https://lh3.googleusercontent.com/a-/AOh14Gjtxl3WLKLbZ5E1Tx7xWJhVsLDUVq_8IKKl-t4jWQ=s64",
      "userId": "08512062062939018513"
     },
     "user_tz": -330
    },
    "id": "5Wqm1qJ7CLGa",
    "outputId": "4b39d684-88d3-4b86-97ae-1a5361da74e2"
   },
   "outputs": [
    {
     "data": {
      "text/plain": [
       "(1037561, 2)"
      ]
     },
     "execution_count": 4,
     "metadata": {},
     "output_type": "execute_result"
    }
   ],
   "source": [
    "final_df.shape"
   ]
  },
  {
   "cell_type": "markdown",
   "metadata": {
    "id": "jRRqqCZHVOJi"
   },
   "source": [
    "### Adding length features"
   ]
  },
  {
   "cell_type": "code",
   "execution_count": 5,
   "metadata": {
    "id": "QFBzXl0dVkgZ"
   },
   "outputs": [],
   "source": [
    "final_df['correct_char_count'] = final_df['correct'].astype('str').apply(lambda x:len(x))\n",
    "final_df['incorrect_char_count'] = final_df['incorrect'].astype('str').apply(lambda x:len(x))"
   ]
  },
  {
   "cell_type": "code",
   "execution_count": 6,
   "metadata": {
    "id": "tQOfxI6VXy5r"
   },
   "outputs": [],
   "source": [
    "final_df['correct_word_count'] = final_df['correct'].astype('str').apply(lambda x:len(x.split()))\n",
    "final_df['incorrect_word_count'] = final_df['incorrect'].astype('str').apply(lambda x:len(x.split()))"
   ]
  },
  {
   "cell_type": "code",
   "execution_count": 7,
   "metadata": {
    "colab": {
     "base_uri": "https://localhost:8080/",
     "height": 203
    },
    "executionInfo": {
     "elapsed": 32,
     "status": "ok",
     "timestamp": 1636733740845,
     "user": {
      "displayName": "Rohan Sawant",
      "photoUrl": "https://lh3.googleusercontent.com/a-/AOh14Gjtxl3WLKLbZ5E1Tx7xWJhVsLDUVq_8IKKl-t4jWQ=s64",
      "userId": "08512062062939018513"
     },
     "user_tz": -330
    },
    "id": "HXwqk6wSW4G6",
    "outputId": "3fbee6e0-37d1-4c0c-cedb-35a33323961a"
   },
   "outputs": [
    {
     "data": {
      "text/html": [
       "<div>\n",
       "<style scoped>\n",
       "    .dataframe tbody tr th:only-of-type {\n",
       "        vertical-align: middle;\n",
       "    }\n",
       "\n",
       "    .dataframe tbody tr th {\n",
       "        vertical-align: top;\n",
       "    }\n",
       "\n",
       "    .dataframe thead th {\n",
       "        text-align: right;\n",
       "    }\n",
       "</style>\n",
       "<table border=\"1\" class=\"dataframe\">\n",
       "  <thead>\n",
       "    <tr style=\"text-align: right;\">\n",
       "      <th></th>\n",
       "      <th>correct</th>\n",
       "      <th>incorrect</th>\n",
       "      <th>correct_char_count</th>\n",
       "      <th>incorrect_char_count</th>\n",
       "      <th>correct_word_count</th>\n",
       "      <th>incorrect_word_count</th>\n",
       "    </tr>\n",
       "  </thead>\n",
       "  <tbody>\n",
       "    <tr>\n",
       "      <th>606077</th>\n",
       "      <td>was the oldest girl in her class .</td>\n",
       "      <td>was an oldest girl in her class .</td>\n",
       "      <td>34</td>\n",
       "      <td>33</td>\n",
       "      <td>8</td>\n",
       "      <td>8</td>\n",
       "    </tr>\n",
       "    <tr>\n",
       "      <th>314705</th>\n",
       "      <td>I would be so happy if you guys could correct ...</td>\n",
       "      <td>I 'm so happy if you guys correct them when yo...</td>\n",
       "      <td>74</td>\n",
       "      <td>62</td>\n",
       "      <td>18</td>\n",
       "      <td>16</td>\n",
       "    </tr>\n",
       "    <tr>\n",
       "      <th>640984</th>\n",
       "      <td>I arrived at Shinjuku at about noon .</td>\n",
       "      <td>I arrived at Shinjuku about at noon .</td>\n",
       "      <td>37</td>\n",
       "      <td>37</td>\n",
       "      <td>8</td>\n",
       "      <td>8</td>\n",
       "    </tr>\n",
       "    <tr>\n",
       "      <th>650381</th>\n",
       "      <td>pretty kittens or puppies - for girls ;</td>\n",
       "      <td>pretty kitten or the puppy - for girls ;</td>\n",
       "      <td>39</td>\n",
       "      <td>40</td>\n",
       "      <td>8</td>\n",
       "      <td>9</td>\n",
       "    </tr>\n",
       "    <tr>\n",
       "      <th>368491</th>\n",
       "      <td>Yin was quite taken by surprise because lots o...</td>\n",
       "      <td>Yin was quite taken into surprise that lots of...</td>\n",
       "      <td>118</td>\n",
       "      <td>93</td>\n",
       "      <td>22</td>\n",
       "      <td>19</td>\n",
       "    </tr>\n",
       "  </tbody>\n",
       "</table>\n",
       "</div>"
      ],
      "text/plain": [
       "                                                  correct  \\\n",
       "606077                 was the oldest girl in her class .   \n",
       "314705  I would be so happy if you guys could correct ...   \n",
       "640984              I arrived at Shinjuku at about noon .   \n",
       "650381            pretty kittens or puppies - for girls ;   \n",
       "368491  Yin was quite taken by surprise because lots o...   \n",
       "\n",
       "                                                incorrect  correct_char_count  \\\n",
       "606077                  was an oldest girl in her class .                  34   \n",
       "314705  I 'm so happy if you guys correct them when yo...                  74   \n",
       "640984              I arrived at Shinjuku about at noon .                  37   \n",
       "650381           pretty kitten or the puppy - for girls ;                  39   \n",
       "368491  Yin was quite taken into surprise that lots of...                 118   \n",
       "\n",
       "        incorrect_char_count  correct_word_count  incorrect_word_count  \n",
       "606077                    33                   8                     8  \n",
       "314705                    62                  18                    16  \n",
       "640984                    37                   8                     8  \n",
       "650381                    40                   8                     9  \n",
       "368491                    93                  22                    19  "
      ]
     },
     "execution_count": 7,
     "metadata": {},
     "output_type": "execute_result"
    }
   ],
   "source": [
    "final_df.sample(5)"
   ]
  },
  {
   "cell_type": "markdown",
   "metadata": {
    "id": "5LXoQzIP_h1n"
   },
   "source": [
    "## Preprocessing"
   ]
  },
  {
   "cell_type": "markdown",
   "metadata": {
    "id": "tVToAui_AJJK"
   },
   "source": [
    "### Removing Missing/NA "
   ]
  },
  {
   "cell_type": "code",
   "execution_count": 8,
   "metadata": {
    "colab": {
     "base_uri": "https://localhost:8080/",
     "height": 234
    },
    "executionInfo": {
     "elapsed": 29,
     "status": "ok",
     "timestamp": 1636733740846,
     "user": {
      "displayName": "Rohan Sawant",
      "photoUrl": "https://lh3.googleusercontent.com/a-/AOh14Gjtxl3WLKLbZ5E1Tx7xWJhVsLDUVq_8IKKl-t4jWQ=s64",
      "userId": "08512062062939018513"
     },
     "user_tz": -330
    },
    "id": "zAtCU4yS6sXF",
    "outputId": "25a17d62-b475-4327-cfcb-77e8358f780a"
   },
   "outputs": [
    {
     "data": {
      "text/html": [
       "<div>\n",
       "<style scoped>\n",
       "    .dataframe tbody tr th:only-of-type {\n",
       "        vertical-align: middle;\n",
       "    }\n",
       "\n",
       "    .dataframe tbody tr th {\n",
       "        vertical-align: top;\n",
       "    }\n",
       "\n",
       "    .dataframe thead th {\n",
       "        text-align: right;\n",
       "    }\n",
       "</style>\n",
       "<table border=\"1\" class=\"dataframe\">\n",
       "  <thead>\n",
       "    <tr style=\"text-align: right;\">\n",
       "      <th></th>\n",
       "      <th>missing_count</th>\n",
       "    </tr>\n",
       "  </thead>\n",
       "  <tbody>\n",
       "    <tr>\n",
       "      <th>correct</th>\n",
       "      <td>1</td>\n",
       "    </tr>\n",
       "    <tr>\n",
       "      <th>incorrect</th>\n",
       "      <td>1</td>\n",
       "    </tr>\n",
       "    <tr>\n",
       "      <th>correct_char_count</th>\n",
       "      <td>0</td>\n",
       "    </tr>\n",
       "    <tr>\n",
       "      <th>incorrect_char_count</th>\n",
       "      <td>0</td>\n",
       "    </tr>\n",
       "    <tr>\n",
       "      <th>correct_word_count</th>\n",
       "      <td>0</td>\n",
       "    </tr>\n",
       "    <tr>\n",
       "      <th>incorrect_word_count</th>\n",
       "      <td>0</td>\n",
       "    </tr>\n",
       "  </tbody>\n",
       "</table>\n",
       "</div>"
      ],
      "text/plain": [
       "                      missing_count\n",
       "correct                           1\n",
       "incorrect                         1\n",
       "correct_char_count                0\n",
       "incorrect_char_count              0\n",
       "correct_word_count                0\n",
       "incorrect_word_count              0"
      ]
     },
     "execution_count": 8,
     "metadata": {},
     "output_type": "execute_result"
    }
   ],
   "source": [
    "pd.DataFrame(final_df.isna().sum(),columns=['missing_count'])"
   ]
  },
  {
   "cell_type": "code",
   "execution_count": 9,
   "metadata": {
    "colab": {
     "base_uri": "https://localhost:8080/",
     "height": 80
    },
    "executionInfo": {
     "elapsed": 29,
     "status": "ok",
     "timestamp": 1636733740848,
     "user": {
      "displayName": "Rohan Sawant",
      "photoUrl": "https://lh3.googleusercontent.com/a-/AOh14Gjtxl3WLKLbZ5E1Tx7xWJhVsLDUVq_8IKKl-t4jWQ=s64",
      "userId": "08512062062939018513"
     },
     "user_tz": -330
    },
    "id": "ByZ6NzVF0y0C",
    "outputId": "eff7dddd-887b-4ac4-c8b7-d4a17ad0a727"
   },
   "outputs": [
    {
     "data": {
      "text/html": [
       "<div>\n",
       "<style scoped>\n",
       "    .dataframe tbody tr th:only-of-type {\n",
       "        vertical-align: middle;\n",
       "    }\n",
       "\n",
       "    .dataframe tbody tr th {\n",
       "        vertical-align: top;\n",
       "    }\n",
       "\n",
       "    .dataframe thead th {\n",
       "        text-align: right;\n",
       "    }\n",
       "</style>\n",
       "<table border=\"1\" class=\"dataframe\">\n",
       "  <thead>\n",
       "    <tr style=\"text-align: right;\">\n",
       "      <th></th>\n",
       "      <th>correct</th>\n",
       "      <th>incorrect</th>\n",
       "      <th>correct_char_count</th>\n",
       "      <th>incorrect_char_count</th>\n",
       "      <th>correct_word_count</th>\n",
       "      <th>incorrect_word_count</th>\n",
       "    </tr>\n",
       "  </thead>\n",
       "  <tbody>\n",
       "    <tr>\n",
       "      <th>222211</th>\n",
       "      <td>NaN</td>\n",
       "      <td>NaN</td>\n",
       "      <td>3</td>\n",
       "      <td>3</td>\n",
       "      <td>1</td>\n",
       "      <td>1</td>\n",
       "    </tr>\n",
       "  </tbody>\n",
       "</table>\n",
       "</div>"
      ],
      "text/plain": [
       "       correct incorrect  correct_char_count  incorrect_char_count  \\\n",
       "222211     NaN       NaN                   3                     3   \n",
       "\n",
       "        correct_word_count  incorrect_word_count  \n",
       "222211                   1                     1  "
      ]
     },
     "execution_count": 9,
     "metadata": {},
     "output_type": "execute_result"
    }
   ],
   "source": [
    "final_df[final_df.isna().any(axis=1)]"
   ]
  },
  {
   "cell_type": "code",
   "execution_count": 10,
   "metadata": {
    "id": "qqr82eKmCFSM"
   },
   "outputs": [],
   "source": [
    "final_df = final_df.dropna().reset_index(drop=True)"
   ]
  },
  {
   "cell_type": "code",
   "execution_count": 11,
   "metadata": {
    "colab": {
     "base_uri": "https://localhost:8080/"
    },
    "executionInfo": {
     "elapsed": 30,
     "status": "ok",
     "timestamp": 1636733741983,
     "user": {
      "displayName": "Rohan Sawant",
      "photoUrl": "https://lh3.googleusercontent.com/a-/AOh14Gjtxl3WLKLbZ5E1Tx7xWJhVsLDUVq_8IKKl-t4jWQ=s64",
      "userId": "08512062062939018513"
     },
     "user_tz": -330
    },
    "id": "v2WXiG-3CQNN",
    "outputId": "2a4a2d13-74e5-47f1-db7b-b67ba7909f2d"
   },
   "outputs": [
    {
     "data": {
      "text/plain": [
       "(1037560, 6)"
      ]
     },
     "execution_count": 11,
     "metadata": {},
     "output_type": "execute_result"
    }
   ],
   "source": [
    "final_df.shape"
   ]
  },
  {
   "cell_type": "code",
   "execution_count": 12,
   "metadata": {
    "colab": {
     "base_uri": "https://localhost:8080/",
     "height": 203
    },
    "executionInfo": {
     "elapsed": 31,
     "status": "ok",
     "timestamp": 1636733741986,
     "user": {
      "displayName": "Rohan Sawant",
      "photoUrl": "https://lh3.googleusercontent.com/a-/AOh14Gjtxl3WLKLbZ5E1Tx7xWJhVsLDUVq_8IKKl-t4jWQ=s64",
      "userId": "08512062062939018513"
     },
     "user_tz": -330
    },
    "id": "vKSBuG-MCZNj",
    "outputId": "25458bf4-48aa-43a0-f3ce-7679e5b0bffd"
   },
   "outputs": [
    {
     "data": {
      "text/html": [
       "<div>\n",
       "<style scoped>\n",
       "    .dataframe tbody tr th:only-of-type {\n",
       "        vertical-align: middle;\n",
       "    }\n",
       "\n",
       "    .dataframe tbody tr th {\n",
       "        vertical-align: top;\n",
       "    }\n",
       "\n",
       "    .dataframe thead th {\n",
       "        text-align: right;\n",
       "    }\n",
       "</style>\n",
       "<table border=\"1\" class=\"dataframe\">\n",
       "  <thead>\n",
       "    <tr style=\"text-align: right;\">\n",
       "      <th></th>\n",
       "      <th>correct</th>\n",
       "      <th>incorrect</th>\n",
       "      <th>correct_char_count</th>\n",
       "      <th>incorrect_char_count</th>\n",
       "      <th>correct_word_count</th>\n",
       "      <th>incorrect_word_count</th>\n",
       "    </tr>\n",
       "  </thead>\n",
       "  <tbody>\n",
       "    <tr>\n",
       "      <th>623623</th>\n",
       "      <td>And we have to pay 30 . 000 yen for a celebrat...</td>\n",
       "      <td>And we have to pay 30 . 000 yen for a celebrat...</td>\n",
       "      <td>81</td>\n",
       "      <td>81</td>\n",
       "      <td>18</td>\n",
       "      <td>18</td>\n",
       "    </tr>\n",
       "    <tr>\n",
       "      <th>46698</th>\n",
       "      <td>I feel very bored , and I do n't know the reas...</td>\n",
       "      <td>I feel very boring , I do n't know the reason ...</td>\n",
       "      <td>104</td>\n",
       "      <td>99</td>\n",
       "      <td>25</td>\n",
       "      <td>23</td>\n",
       "    </tr>\n",
       "    <tr>\n",
       "      <th>58419</th>\n",
       "      <td>I will go to the area .</td>\n",
       "      <td>I will go to the area .</td>\n",
       "      <td>23</td>\n",
       "      <td>23</td>\n",
       "      <td>7</td>\n",
       "      <td>7</td>\n",
       "    </tr>\n",
       "    <tr>\n",
       "      <th>800367</th>\n",
       "      <td>But I got to feel that Mali was very close to ...</td>\n",
       "      <td>But I got to feel Mali very close to me hearin...</td>\n",
       "      <td>76</td>\n",
       "      <td>61</td>\n",
       "      <td>17</td>\n",
       "      <td>14</td>\n",
       "    </tr>\n",
       "    <tr>\n",
       "      <th>1010628</th>\n",
       "      <td>My 150th English Gogyohka</td>\n",
       "      <td>My 150th English Gogyohka</td>\n",
       "      <td>25</td>\n",
       "      <td>25</td>\n",
       "      <td>4</td>\n",
       "      <td>4</td>\n",
       "    </tr>\n",
       "  </tbody>\n",
       "</table>\n",
       "</div>"
      ],
      "text/plain": [
       "                                                   correct  \\\n",
       "623623   And we have to pay 30 . 000 yen for a celebrat...   \n",
       "46698    I feel very bored , and I do n't know the reas...   \n",
       "58419                              I will go to the area .   \n",
       "800367   But I got to feel that Mali was very close to ...   \n",
       "1010628                          My 150th English Gogyohka   \n",
       "\n",
       "                                                 incorrect  \\\n",
       "623623   And we have to pay 30 . 000 yen for a celebrat...   \n",
       "46698    I feel very boring , I do n't know the reason ...   \n",
       "58419                              I will go to the area .   \n",
       "800367   But I got to feel Mali very close to me hearin...   \n",
       "1010628                          My 150th English Gogyohka   \n",
       "\n",
       "         correct_char_count  incorrect_char_count  correct_word_count  \\\n",
       "623623                   81                    81                  18   \n",
       "46698                   104                    99                  25   \n",
       "58419                    23                    23                   7   \n",
       "800367                   76                    61                  17   \n",
       "1010628                  25                    25                   4   \n",
       "\n",
       "         incorrect_word_count  \n",
       "623623                     18  \n",
       "46698                      23  \n",
       "58419                       7  \n",
       "800367                     14  \n",
       "1010628                     4  "
      ]
     },
     "execution_count": 12,
     "metadata": {},
     "output_type": "execute_result"
    }
   ],
   "source": [
    "final_df.sample(5)"
   ]
  },
  {
   "cell_type": "markdown",
   "metadata": {
    "id": "6WPEhU65F3mj"
   },
   "source": [
    "### Keep unique sentence pairs"
   ]
  },
  {
   "cell_type": "code",
   "execution_count": 13,
   "metadata": {
    "colab": {
     "base_uri": "https://localhost:8080/"
    },
    "executionInfo": {
     "elapsed": 29,
     "status": "ok",
     "timestamp": 1636733741987,
     "user": {
      "displayName": "Rohan Sawant",
      "photoUrl": "https://lh3.googleusercontent.com/a-/AOh14Gjtxl3WLKLbZ5E1Tx7xWJhVsLDUVq_8IKKl-t4jWQ=s64",
      "userId": "08512062062939018513"
     },
     "user_tz": -330
    },
    "id": "WF9i1XO2GOlC",
    "outputId": "e7b6b7fb-4dd6-42ef-8fd2-82f9b81c00d5"
   },
   "outputs": [
    {
     "name": "stdout",
     "output_type": "stream",
     "text": [
      "total number of duplicate pairs: 539201\n"
     ]
    }
   ],
   "source": [
    "print(f\"total number of duplicate pairs: {len(final_df[final_df['correct']==final_df['incorrect']])}\")"
   ]
  },
  {
   "cell_type": "code",
   "execution_count": 14,
   "metadata": {
    "colab": {
     "base_uri": "https://localhost:8080/"
    },
    "executionInfo": {
     "elapsed": 422,
     "status": "ok",
     "timestamp": 1637885505390,
     "user": {
      "displayName": "Rohan Sawant",
      "photoUrl": "https://lh3.googleusercontent.com/a-/AOh14Gjtxl3WLKLbZ5E1Tx7xWJhVsLDUVq_8IKKl-t4jWQ=s64",
      "userId": "08512062062939018513"
     },
     "user_tz": -330
    },
    "id": "JBhCbwdnlWIq",
    "outputId": "df5174af-115e-4326-a163-99de0849c1e4"
   },
   "outputs": [
    {
     "name": "stdout",
     "output_type": "stream",
     "text": [
      "total number of duplicate pairs: 539201\n"
     ]
    }
   ],
   "source": [
    "print(f\"total number of duplicate pairs: {len(final_df[final_df['correct']==final_df['incorrect']])}\")"
   ]
  },
  {
   "cell_type": "code",
   "execution_count": 15,
   "metadata": {
    "colab": {
     "base_uri": "https://localhost:8080/",
     "height": 357
    },
    "executionInfo": {
     "elapsed": 29,
     "status": "ok",
     "timestamp": 1636733741988,
     "user": {
      "displayName": "Rohan Sawant",
      "photoUrl": "https://lh3.googleusercontent.com/a-/AOh14Gjtxl3WLKLbZ5E1Tx7xWJhVsLDUVq_8IKKl-t4jWQ=s64",
      "userId": "08512062062939018513"
     },
     "user_tz": -330
    },
    "id": "DfpKFoUuIUM9",
    "outputId": "4f9b5fd1-1167-4304-92fc-5b5ec4167ec2"
   },
   "outputs": [
    {
     "data": {
      "text/html": [
       "<div>\n",
       "<style scoped>\n",
       "    .dataframe tbody tr th:only-of-type {\n",
       "        vertical-align: middle;\n",
       "    }\n",
       "\n",
       "    .dataframe tbody tr th {\n",
       "        vertical-align: top;\n",
       "    }\n",
       "\n",
       "    .dataframe thead th {\n",
       "        text-align: right;\n",
       "    }\n",
       "</style>\n",
       "<table border=\"1\" class=\"dataframe\">\n",
       "  <thead>\n",
       "    <tr style=\"text-align: right;\">\n",
       "      <th></th>\n",
       "      <th>correct</th>\n",
       "      <th>incorrect</th>\n",
       "      <th>correct_char_count</th>\n",
       "      <th>incorrect_char_count</th>\n",
       "      <th>correct_word_count</th>\n",
       "      <th>incorrect_word_count</th>\n",
       "    </tr>\n",
       "  </thead>\n",
       "  <tbody>\n",
       "    <tr>\n",
       "      <th>310129</th>\n",
       "      <td>I went to a department store to buy some ingre...</td>\n",
       "      <td>I went to a department store to buy some ingre...</td>\n",
       "      <td>80</td>\n",
       "      <td>80</td>\n",
       "      <td>16</td>\n",
       "      <td>16</td>\n",
       "    </tr>\n",
       "    <tr>\n",
       "      <th>451215</th>\n",
       "      <td>It was not so good , but cheap .</td>\n",
       "      <td>It was not so good , but cheap .</td>\n",
       "      <td>32</td>\n",
       "      <td>32</td>\n",
       "      <td>9</td>\n",
       "      <td>9</td>\n",
       "    </tr>\n",
       "    <tr>\n",
       "      <th>208323</th>\n",
       "      <td>I 'm a university student who is studying Engl...</td>\n",
       "      <td>I 'm a university student who is studying Engl...</td>\n",
       "      <td>69</td>\n",
       "      <td>69</td>\n",
       "      <td>14</td>\n",
       "      <td>14</td>\n",
       "    </tr>\n",
       "    <tr>\n",
       "      <th>437266</th>\n",
       "      <td>StudyStudyStudy</td>\n",
       "      <td>StudyStudyStudy</td>\n",
       "      <td>15</td>\n",
       "      <td>15</td>\n",
       "      <td>1</td>\n",
       "      <td>1</td>\n",
       "    </tr>\n",
       "    <tr>\n",
       "      <th>672164</th>\n",
       "      <td>19th birthday</td>\n",
       "      <td>19th birthday</td>\n",
       "      <td>13</td>\n",
       "      <td>13</td>\n",
       "      <td>2</td>\n",
       "      <td>2</td>\n",
       "    </tr>\n",
       "    <tr>\n",
       "      <th>188392</th>\n",
       "      <td>Unfortunately , it was closed .</td>\n",
       "      <td>Unfortunately , it was closed .</td>\n",
       "      <td>31</td>\n",
       "      <td>31</td>\n",
       "      <td>6</td>\n",
       "      <td>6</td>\n",
       "    </tr>\n",
       "    <tr>\n",
       "      <th>869416</th>\n",
       "      <td>However , I want to work hard .</td>\n",
       "      <td>However , I want to work hard .</td>\n",
       "      <td>31</td>\n",
       "      <td>31</td>\n",
       "      <td>8</td>\n",
       "      <td>8</td>\n",
       "    </tr>\n",
       "    <tr>\n",
       "      <th>377264</th>\n",
       "      <td>I must study English hard ! ! ! ! !</td>\n",
       "      <td>I must study English hard ! ! ! ! !</td>\n",
       "      <td>35</td>\n",
       "      <td>35</td>\n",
       "      <td>10</td>\n",
       "      <td>10</td>\n",
       "    </tr>\n",
       "    <tr>\n",
       "      <th>591978</th>\n",
       "      <td>I moved 8 medaka ( Japanese killifish ) out of...</td>\n",
       "      <td>I moved 8 medaka ( Japanese killifish ) out of...</td>\n",
       "      <td>74</td>\n",
       "      <td>74</td>\n",
       "      <td>16</td>\n",
       "      <td>16</td>\n",
       "    </tr>\n",
       "    <tr>\n",
       "      <th>23547</th>\n",
       "      <td>I determined to run tomorrow morning , but whe...</td>\n",
       "      <td>I determined to run tomorrow morning , but whe...</td>\n",
       "      <td>121</td>\n",
       "      <td>121</td>\n",
       "      <td>26</td>\n",
       "      <td>26</td>\n",
       "    </tr>\n",
       "  </tbody>\n",
       "</table>\n",
       "</div>"
      ],
      "text/plain": [
       "                                                  correct  \\\n",
       "310129  I went to a department store to buy some ingre...   \n",
       "451215                   It was not so good , but cheap .   \n",
       "208323  I 'm a university student who is studying Engl...   \n",
       "437266                                    StudyStudyStudy   \n",
       "672164                                      19th birthday   \n",
       "188392                    Unfortunately , it was closed .   \n",
       "869416                    However , I want to work hard .   \n",
       "377264                I must study English hard ! ! ! ! !   \n",
       "591978  I moved 8 medaka ( Japanese killifish ) out of...   \n",
       "23547   I determined to run tomorrow morning , but whe...   \n",
       "\n",
       "                                                incorrect  correct_char_count  \\\n",
       "310129  I went to a department store to buy some ingre...                  80   \n",
       "451215                   It was not so good , but cheap .                  32   \n",
       "208323  I 'm a university student who is studying Engl...                  69   \n",
       "437266                                    StudyStudyStudy                  15   \n",
       "672164                                      19th birthday                  13   \n",
       "188392                    Unfortunately , it was closed .                  31   \n",
       "869416                    However , I want to work hard .                  31   \n",
       "377264                I must study English hard ! ! ! ! !                  35   \n",
       "591978  I moved 8 medaka ( Japanese killifish ) out of...                  74   \n",
       "23547   I determined to run tomorrow morning , but whe...                 121   \n",
       "\n",
       "        incorrect_char_count  correct_word_count  incorrect_word_count  \n",
       "310129                    80                  16                    16  \n",
       "451215                    32                   9                     9  \n",
       "208323                    69                  14                    14  \n",
       "437266                    15                   1                     1  \n",
       "672164                    13                   2                     2  \n",
       "188392                    31                   6                     6  \n",
       "869416                    31                   8                     8  \n",
       "377264                    35                  10                    10  \n",
       "591978                    74                  16                    16  \n",
       "23547                    121                  26                    26  "
      ]
     },
     "execution_count": 15,
     "metadata": {},
     "output_type": "execute_result"
    }
   ],
   "source": [
    "final_df[final_df['correct']==final_df['incorrect']].sample(10)"
   ]
  },
  {
   "cell_type": "code",
   "execution_count": 16,
   "metadata": {
    "id": "XfcZdNoCFKcE"
   },
   "outputs": [],
   "source": [
    "final_df = final_df[final_df['correct']!=final_df['incorrect']]"
   ]
  },
  {
   "cell_type": "code",
   "execution_count": 17,
   "metadata": {
    "colab": {
     "base_uri": "https://localhost:8080/"
    },
    "executionInfo": {
     "elapsed": 30,
     "status": "ok",
     "timestamp": 1636733741992,
     "user": {
      "displayName": "Rohan Sawant",
      "photoUrl": "https://lh3.googleusercontent.com/a-/AOh14Gjtxl3WLKLbZ5E1Tx7xWJhVsLDUVq_8IKKl-t4jWQ=s64",
      "userId": "08512062062939018513"
     },
     "user_tz": -330
    },
    "id": "YQDanxI-GCKe",
    "outputId": "5149c119-455a-4ee4-de6a-a74927bda210"
   },
   "outputs": [
    {
     "data": {
      "text/plain": [
       "(498359, 6)"
      ]
     },
     "execution_count": 17,
     "metadata": {},
     "output_type": "execute_result"
    }
   ],
   "source": [
    "final_df.shape"
   ]
  },
  {
   "cell_type": "code",
   "execution_count": 18,
   "metadata": {
    "colab": {
     "base_uri": "https://localhost:8080/",
     "height": 203
    },
    "executionInfo": {
     "elapsed": 28,
     "status": "ok",
     "timestamp": 1636733741993,
     "user": {
      "displayName": "Rohan Sawant",
      "photoUrl": "https://lh3.googleusercontent.com/a-/AOh14Gjtxl3WLKLbZ5E1Tx7xWJhVsLDUVq_8IKKl-t4jWQ=s64",
      "userId": "08512062062939018513"
     },
     "user_tz": -330
    },
    "id": "Vz8_ngW-GDi-",
    "outputId": "6047244f-752a-4030-9150-909c8fb29a25"
   },
   "outputs": [
    {
     "data": {
      "text/html": [
       "<div>\n",
       "<style scoped>\n",
       "    .dataframe tbody tr th:only-of-type {\n",
       "        vertical-align: middle;\n",
       "    }\n",
       "\n",
       "    .dataframe tbody tr th {\n",
       "        vertical-align: top;\n",
       "    }\n",
       "\n",
       "    .dataframe thead th {\n",
       "        text-align: right;\n",
       "    }\n",
       "</style>\n",
       "<table border=\"1\" class=\"dataframe\">\n",
       "  <thead>\n",
       "    <tr style=\"text-align: right;\">\n",
       "      <th></th>\n",
       "      <th>correct</th>\n",
       "      <th>incorrect</th>\n",
       "      <th>correct_char_count</th>\n",
       "      <th>incorrect_char_count</th>\n",
       "      <th>correct_word_count</th>\n",
       "      <th>incorrect_word_count</th>\n",
       "    </tr>\n",
       "  </thead>\n",
       "  <tbody>\n",
       "    <tr>\n",
       "      <th>557318</th>\n",
       "      <td>I need only people who have something to do wi...</td>\n",
       "      <td>I need only people who have something to do wi...</td>\n",
       "      <td>77</td>\n",
       "      <td>76</td>\n",
       "      <td>17</td>\n",
       "      <td>17</td>\n",
       "    </tr>\n",
       "    <tr>\n",
       "      <th>473885</th>\n",
       "      <td>I got rid of my cold at last .</td>\n",
       "      <td>I got a rid of my cold at last .</td>\n",
       "      <td>30</td>\n",
       "      <td>32</td>\n",
       "      <td>9</td>\n",
       "      <td>10</td>\n",
       "    </tr>\n",
       "    <tr>\n",
       "      <th>394981</th>\n",
       "      <td>The noodle restaurant which we tried to go to ...</td>\n",
       "      <td>The noodle restaurant which we tried to go to ...</td>\n",
       "      <td>147</td>\n",
       "      <td>145</td>\n",
       "      <td>31</td>\n",
       "      <td>30</td>\n",
       "    </tr>\n",
       "    <tr>\n",
       "      <th>250362</th>\n",
       "      <td>So we are going to meet downtown at noon .</td>\n",
       "      <td>So we are going to meet in downtown at noon .</td>\n",
       "      <td>42</td>\n",
       "      <td>45</td>\n",
       "      <td>10</td>\n",
       "      <td>11</td>\n",
       "    </tr>\n",
       "    <tr>\n",
       "      <th>952618</th>\n",
       "      <td>I wonder if I could pass the Eiken . . .</td>\n",
       "      <td>I wonder I could pass the Eiken . . .</td>\n",
       "      <td>40</td>\n",
       "      <td>37</td>\n",
       "      <td>11</td>\n",
       "      <td>10</td>\n",
       "    </tr>\n",
       "  </tbody>\n",
       "</table>\n",
       "</div>"
      ],
      "text/plain": [
       "                                                  correct  \\\n",
       "557318  I need only people who have something to do wi...   \n",
       "473885                     I got rid of my cold at last .   \n",
       "394981  The noodle restaurant which we tried to go to ...   \n",
       "250362         So we are going to meet downtown at noon .   \n",
       "952618           I wonder if I could pass the Eiken . . .   \n",
       "\n",
       "                                                incorrect  correct_char_count  \\\n",
       "557318  I need only people who have something to do wi...                  77   \n",
       "473885                   I got a rid of my cold at last .                  30   \n",
       "394981  The noodle restaurant which we tried to go to ...                 147   \n",
       "250362      So we are going to meet in downtown at noon .                  42   \n",
       "952618              I wonder I could pass the Eiken . . .                  40   \n",
       "\n",
       "        incorrect_char_count  correct_word_count  incorrect_word_count  \n",
       "557318                    76                  17                    17  \n",
       "473885                    32                   9                    10  \n",
       "394981                   145                  31                    30  \n",
       "250362                    45                  10                    11  \n",
       "952618                    37                  11                    10  "
      ]
     },
     "execution_count": 18,
     "metadata": {},
     "output_type": "execute_result"
    }
   ],
   "source": [
    "final_df.sample(5)"
   ]
  },
  {
   "cell_type": "markdown",
   "metadata": {
    "id": "poB28KPmAj61"
   },
   "source": [
    "### Remove Duplicates"
   ]
  },
  {
   "cell_type": "code",
   "execution_count": 19,
   "metadata": {
    "colab": {
     "base_uri": "https://localhost:8080/"
    },
    "executionInfo": {
     "elapsed": 775,
     "status": "ok",
     "timestamp": 1636733742742,
     "user": {
      "displayName": "Rohan Sawant",
      "photoUrl": "https://lh3.googleusercontent.com/a-/AOh14Gjtxl3WLKLbZ5E1Tx7xWJhVsLDUVq_8IKKl-t4jWQ=s64",
      "userId": "08512062062939018513"
     },
     "user_tz": -330
    },
    "id": "LAaFf5etBpDt",
    "outputId": "dfd3d459-f933-40a9-d60b-cc350d95a2da"
   },
   "outputs": [
    {
     "name": "stdout",
     "output_type": "stream",
     "text": [
      "total number of duplicates: 2021\n"
     ]
    }
   ],
   "source": [
    "print(f'total number of duplicates: {final_df.duplicated().sum()}')"
   ]
  },
  {
   "cell_type": "code",
   "execution_count": 20,
   "metadata": {
    "colab": {
     "base_uri": "https://localhost:8080/",
     "height": 417
    },
    "executionInfo": {
     "elapsed": 734,
     "status": "ok",
     "timestamp": 1636733743469,
     "user": {
      "displayName": "Rohan Sawant",
      "photoUrl": "https://lh3.googleusercontent.com/a-/AOh14Gjtxl3WLKLbZ5E1Tx7xWJhVsLDUVq_8IKKl-t4jWQ=s64",
      "userId": "08512062062939018513"
     },
     "user_tz": -330
    },
    "id": "zQEcf-gZDwq7",
    "outputId": "710d1f11-eb9e-4a74-9fce-0156e84a353c"
   },
   "outputs": [
    {
     "data": {
      "text/html": [
       "<div>\n",
       "<style scoped>\n",
       "    .dataframe tbody tr th:only-of-type {\n",
       "        vertical-align: middle;\n",
       "    }\n",
       "\n",
       "    .dataframe tbody tr th {\n",
       "        vertical-align: top;\n",
       "    }\n",
       "\n",
       "    .dataframe thead th {\n",
       "        text-align: right;\n",
       "    }\n",
       "</style>\n",
       "<table border=\"1\" class=\"dataframe\">\n",
       "  <thead>\n",
       "    <tr style=\"text-align: right;\">\n",
       "      <th></th>\n",
       "      <th>correct</th>\n",
       "      <th>incorrect</th>\n",
       "      <th>correct_char_count</th>\n",
       "      <th>incorrect_char_count</th>\n",
       "      <th>correct_word_count</th>\n",
       "      <th>incorrect_word_count</th>\n",
       "    </tr>\n",
       "  </thead>\n",
       "  <tbody>\n",
       "    <tr>\n",
       "      <th>717379</th>\n",
       "      <td>( I seriously want to escape , all the way , t...</td>\n",
       "      <td>( I seriously want to escape , all the way , t...</td>\n",
       "      <td>88</td>\n",
       "      <td>85</td>\n",
       "      <td>19</td>\n",
       "      <td>19</td>\n",
       "    </tr>\n",
       "    <tr>\n",
       "      <th>1027462</th>\n",
       "      <td>( I seriously want to escape , all the way , t...</td>\n",
       "      <td>( I seriously want to escape , all the way , t...</td>\n",
       "      <td>88</td>\n",
       "      <td>85</td>\n",
       "      <td>19</td>\n",
       "      <td>19</td>\n",
       "    </tr>\n",
       "    <tr>\n",
       "      <th>802135</th>\n",
       "      <td>: - )</td>\n",
       "      <td>: - (</td>\n",
       "      <td>5</td>\n",
       "      <td>5</td>\n",
       "      <td>3</td>\n",
       "      <td>3</td>\n",
       "    </tr>\n",
       "    <tr>\n",
       "      <th>800388</th>\n",
       "      <td>: - )</td>\n",
       "      <td>: - (</td>\n",
       "      <td>5</td>\n",
       "      <td>5</td>\n",
       "      <td>3</td>\n",
       "      <td>3</td>\n",
       "    </tr>\n",
       "    <tr>\n",
       "      <th>161743</th>\n",
       "      <td>A : How much did it cost ?</td>\n",
       "      <td>A : How much does is cost ?</td>\n",
       "      <td>26</td>\n",
       "      <td>27</td>\n",
       "      <td>8</td>\n",
       "      <td>8</td>\n",
       "    </tr>\n",
       "    <tr>\n",
       "      <th>...</th>\n",
       "      <td>...</td>\n",
       "      <td>...</td>\n",
       "      <td>...</td>\n",
       "      <td>...</td>\n",
       "      <td>...</td>\n",
       "      <td>...</td>\n",
       "    </tr>\n",
       "    <tr>\n",
       "      <th>350827</th>\n",
       "      <td>to be continued . . .</td>\n",
       "      <td>to be continue . . .</td>\n",
       "      <td>21</td>\n",
       "      <td>20</td>\n",
       "      <td>6</td>\n",
       "      <td>6</td>\n",
       "    </tr>\n",
       "    <tr>\n",
       "      <th>17343</th>\n",
       "      <td>to be continued . . .</td>\n",
       "      <td>to be continue . . .</td>\n",
       "      <td>21</td>\n",
       "      <td>20</td>\n",
       "      <td>6</td>\n",
       "      <td>6</td>\n",
       "    </tr>\n",
       "    <tr>\n",
       "      <th>633235</th>\n",
       "      <td>to be continued . . .</td>\n",
       "      <td>to be continue . . .</td>\n",
       "      <td>21</td>\n",
       "      <td>20</td>\n",
       "      <td>6</td>\n",
       "      <td>6</td>\n",
       "    </tr>\n",
       "    <tr>\n",
       "      <th>767284</th>\n",
       "      <td>today was a bad day .</td>\n",
       "      <td>today is a bad day .</td>\n",
       "      <td>21</td>\n",
       "      <td>20</td>\n",
       "      <td>6</td>\n",
       "      <td>6</td>\n",
       "    </tr>\n",
       "    <tr>\n",
       "      <th>223150</th>\n",
       "      <td>today was a bad day .</td>\n",
       "      <td>today is a bad day .</td>\n",
       "      <td>21</td>\n",
       "      <td>20</td>\n",
       "      <td>6</td>\n",
       "      <td>6</td>\n",
       "    </tr>\n",
       "  </tbody>\n",
       "</table>\n",
       "<p>3129 rows × 6 columns</p>\n",
       "</div>"
      ],
      "text/plain": [
       "                                                   correct  \\\n",
       "717379   ( I seriously want to escape , all the way , t...   \n",
       "1027462  ( I seriously want to escape , all the way , t...   \n",
       "802135                                               : - )   \n",
       "800388                                               : - )   \n",
       "161743                          A : How much did it cost ?   \n",
       "...                                                    ...   \n",
       "350827                               to be continued . . .   \n",
       "17343                                to be continued . . .   \n",
       "633235                               to be continued . . .   \n",
       "767284                               today was a bad day .   \n",
       "223150                               today was a bad day .   \n",
       "\n",
       "                                                 incorrect  \\\n",
       "717379   ( I seriously want to escape , all the way , t...   \n",
       "1027462  ( I seriously want to escape , all the way , t...   \n",
       "802135                                               : - (   \n",
       "800388                                               : - (   \n",
       "161743                         A : How much does is cost ?   \n",
       "...                                                    ...   \n",
       "350827                                to be continue . . .   \n",
       "17343                                 to be continue . . .   \n",
       "633235                                to be continue . . .   \n",
       "767284                                today is a bad day .   \n",
       "223150                                today is a bad day .   \n",
       "\n",
       "         correct_char_count  incorrect_char_count  correct_word_count  \\\n",
       "717379                   88                    85                  19   \n",
       "1027462                  88                    85                  19   \n",
       "802135                    5                     5                   3   \n",
       "800388                    5                     5                   3   \n",
       "161743                   26                    27                   8   \n",
       "...                     ...                   ...                 ...   \n",
       "350827                   21                    20                   6   \n",
       "17343                    21                    20                   6   \n",
       "633235                   21                    20                   6   \n",
       "767284                   21                    20                   6   \n",
       "223150                   21                    20                   6   \n",
       "\n",
       "         incorrect_word_count  \n",
       "717379                     19  \n",
       "1027462                    19  \n",
       "802135                      3  \n",
       "800388                      3  \n",
       "161743                      8  \n",
       "...                       ...  \n",
       "350827                      6  \n",
       "17343                       6  \n",
       "633235                      6  \n",
       "767284                      6  \n",
       "223150                      6  \n",
       "\n",
       "[3129 rows x 6 columns]"
      ]
     },
     "execution_count": 20,
     "metadata": {},
     "output_type": "execute_result"
    }
   ],
   "source": [
    "final_df[final_df.duplicated(keep=False)].sort_values('correct')"
   ]
  },
  {
   "cell_type": "code",
   "execution_count": 21,
   "metadata": {
    "id": "_qdNRW_RD2yj"
   },
   "outputs": [],
   "source": [
    "final_df = final_df.drop_duplicates().reset_index(drop=True)"
   ]
  },
  {
   "cell_type": "code",
   "execution_count": 22,
   "metadata": {
    "colab": {
     "base_uri": "https://localhost:8080/"
    },
    "executionInfo": {
     "elapsed": 37,
     "status": "ok",
     "timestamp": 1636733744214,
     "user": {
      "displayName": "Rohan Sawant",
      "photoUrl": "https://lh3.googleusercontent.com/a-/AOh14Gjtxl3WLKLbZ5E1Tx7xWJhVsLDUVq_8IKKl-t4jWQ=s64",
      "userId": "08512062062939018513"
     },
     "user_tz": -330
    },
    "id": "8o0op_KEEIXg",
    "outputId": "66276170-6ca4-4a12-f2e4-f4935ac47422"
   },
   "outputs": [
    {
     "data": {
      "text/plain": [
       "(496338, 6)"
      ]
     },
     "execution_count": 22,
     "metadata": {},
     "output_type": "execute_result"
    }
   ],
   "source": [
    "final_df.shape"
   ]
  },
  {
   "cell_type": "code",
   "execution_count": 23,
   "metadata": {
    "colab": {
     "base_uri": "https://localhost:8080/",
     "height": 203
    },
    "executionInfo": {
     "elapsed": 36,
     "status": "ok",
     "timestamp": 1636733744215,
     "user": {
      "displayName": "Rohan Sawant",
      "photoUrl": "https://lh3.googleusercontent.com/a-/AOh14Gjtxl3WLKLbZ5E1Tx7xWJhVsLDUVq_8IKKl-t4jWQ=s64",
      "userId": "08512062062939018513"
     },
     "user_tz": -330
    },
    "id": "QsAvD9XzEIX-",
    "outputId": "d53eac12-84fe-4535-9ba3-5f9ff269792d"
   },
   "outputs": [
    {
     "data": {
      "text/html": [
       "<div>\n",
       "<style scoped>\n",
       "    .dataframe tbody tr th:only-of-type {\n",
       "        vertical-align: middle;\n",
       "    }\n",
       "\n",
       "    .dataframe tbody tr th {\n",
       "        vertical-align: top;\n",
       "    }\n",
       "\n",
       "    .dataframe thead th {\n",
       "        text-align: right;\n",
       "    }\n",
       "</style>\n",
       "<table border=\"1\" class=\"dataframe\">\n",
       "  <thead>\n",
       "    <tr style=\"text-align: right;\">\n",
       "      <th></th>\n",
       "      <th>correct</th>\n",
       "      <th>incorrect</th>\n",
       "      <th>correct_char_count</th>\n",
       "      <th>incorrect_char_count</th>\n",
       "      <th>correct_word_count</th>\n",
       "      <th>incorrect_word_count</th>\n",
       "    </tr>\n",
       "  </thead>\n",
       "  <tbody>\n",
       "    <tr>\n",
       "      <th>313694</th>\n",
       "      <td>He booked accommodation and a car .</td>\n",
       "      <td>He booked an accomodation and a car .</td>\n",
       "      <td>35</td>\n",
       "      <td>37</td>\n",
       "      <td>7</td>\n",
       "      <td>8</td>\n",
       "    </tr>\n",
       "    <tr>\n",
       "      <th>3993</th>\n",
       "      <td>I partly agree with it .</td>\n",
       "      <td>I partly agree it .</td>\n",
       "      <td>24</td>\n",
       "      <td>19</td>\n",
       "      <td>6</td>\n",
       "      <td>5</td>\n",
       "    </tr>\n",
       "    <tr>\n",
       "      <th>408749</th>\n",
       "      <td>I sometimes play Go .</td>\n",
       "      <td>I sometimes playing in Go .</td>\n",
       "      <td>21</td>\n",
       "      <td>27</td>\n",
       "      <td>5</td>\n",
       "      <td>6</td>\n",
       "    </tr>\n",
       "    <tr>\n",
       "      <th>377102</th>\n",
       "      <td>So I have to buy a new one</td>\n",
       "      <td>So I have to buy bag for school .</td>\n",
       "      <td>26</td>\n",
       "      <td>33</td>\n",
       "      <td>8</td>\n",
       "      <td>9</td>\n",
       "    </tr>\n",
       "    <tr>\n",
       "      <th>157179</th>\n",
       "      <td>After I came back home , I ate lunch and I ate...</td>\n",
       "      <td>After I came back home , I ate lunch and I ate...</td>\n",
       "      <td>100</td>\n",
       "      <td>98</td>\n",
       "      <td>22</td>\n",
       "      <td>22</td>\n",
       "    </tr>\n",
       "  </tbody>\n",
       "</table>\n",
       "</div>"
      ],
      "text/plain": [
       "                                                  correct  \\\n",
       "313694                He booked accommodation and a car .   \n",
       "3993                             I partly agree with it .   \n",
       "408749                              I sometimes play Go .   \n",
       "377102                         So I have to buy a new one   \n",
       "157179  After I came back home , I ate lunch and I ate...   \n",
       "\n",
       "                                                incorrect  correct_char_count  \\\n",
       "313694              He booked an accomodation and a car .                  35   \n",
       "3993                                  I partly agree it .                  24   \n",
       "408749                        I sometimes playing in Go .                  21   \n",
       "377102                  So I have to buy bag for school .                  26   \n",
       "157179  After I came back home , I ate lunch and I ate...                 100   \n",
       "\n",
       "        incorrect_char_count  correct_word_count  incorrect_word_count  \n",
       "313694                    37                   7                     8  \n",
       "3993                      19                   6                     5  \n",
       "408749                    27                   5                     6  \n",
       "377102                    33                   8                     9  \n",
       "157179                    98                  22                    22  "
      ]
     },
     "execution_count": 23,
     "metadata": {},
     "output_type": "execute_result"
    }
   ],
   "source": [
    "final_df.sample(5)"
   ]
  },
  {
   "cell_type": "markdown",
   "metadata": {
    "id": "qRzOiba30FCS"
   },
   "source": [
    "### Remove Small sentences\n",
    "\n"
   ]
  },
  {
   "cell_type": "code",
   "execution_count": 24,
   "metadata": {
    "colab": {
     "base_uri": "https://localhost:8080/"
    },
    "executionInfo": {
     "elapsed": 37,
     "status": "ok",
     "timestamp": 1636733744217,
     "user": {
      "displayName": "Rohan Sawant",
      "photoUrl": "https://lh3.googleusercontent.com/a-/AOh14Gjtxl3WLKLbZ5E1Tx7xWJhVsLDUVq_8IKKl-t4jWQ=s64",
      "userId": "08512062062939018513"
     },
     "user_tz": -330
    },
    "id": "vdaKCwH20b5T",
    "outputId": "1d60b9d8-ad7a-4fc4-93a3-b5d068d061d2"
   },
   "outputs": [
    {
     "data": {
      "text/plain": [
       "(5, 6)"
      ]
     },
     "execution_count": 24,
     "metadata": {},
     "output_type": "execute_result"
    }
   ],
   "source": [
    "final_df[final_df['incorrect_char_count']<2].shape"
   ]
  },
  {
   "cell_type": "code",
   "execution_count": 25,
   "metadata": {
    "id": "MEmMhUrp0L5s"
   },
   "outputs": [],
   "source": [
    "final_df = final_df[final_df['incorrect_char_count']>2].reset_index(drop=True)"
   ]
  },
  {
   "cell_type": "code",
   "execution_count": 26,
   "metadata": {
    "colab": {
     "base_uri": "https://localhost:8080/"
    },
    "executionInfo": {
     "elapsed": 34,
     "status": "ok",
     "timestamp": 1636733744219,
     "user": {
      "displayName": "Rohan Sawant",
      "photoUrl": "https://lh3.googleusercontent.com/a-/AOh14Gjtxl3WLKLbZ5E1Tx7xWJhVsLDUVq_8IKKl-t4jWQ=s64",
      "userId": "08512062062939018513"
     },
     "user_tz": -330
    },
    "id": "zzObKMuD1VDZ",
    "outputId": "b91b8cfd-99f8-4267-ca84-43e7c16806f9"
   },
   "outputs": [
    {
     "data": {
      "text/plain": [
       "(496326, 6)"
      ]
     },
     "execution_count": 26,
     "metadata": {},
     "output_type": "execute_result"
    }
   ],
   "source": [
    "final_df.shape"
   ]
  },
  {
   "cell_type": "code",
   "execution_count": 27,
   "metadata": {
    "colab": {
     "base_uri": "https://localhost:8080/"
    },
    "executionInfo": {
     "elapsed": 31,
     "status": "ok",
     "timestamp": 1636733744220,
     "user": {
      "displayName": "Rohan Sawant",
      "photoUrl": "https://lh3.googleusercontent.com/a-/AOh14Gjtxl3WLKLbZ5E1Tx7xWJhVsLDUVq_8IKKl-t4jWQ=s64",
      "userId": "08512062062939018513"
     },
     "user_tz": -330
    },
    "id": "HCZLAsqG1gXj",
    "outputId": "fecd975a-9859-44b3-9b01-c47343a1d8d2"
   },
   "outputs": [
    {
     "data": {
      "text/plain": [
       "(27, 6)"
      ]
     },
     "execution_count": 27,
     "metadata": {},
     "output_type": "execute_result"
    }
   ],
   "source": [
    "final_df[final_df['correct_char_count']<2].shape"
   ]
  },
  {
   "cell_type": "code",
   "execution_count": 28,
   "metadata": {
    "colab": {
     "base_uri": "https://localhost:8080/",
     "height": 357
    },
    "executionInfo": {
     "elapsed": 29,
     "status": "ok",
     "timestamp": 1636733744222,
     "user": {
      "displayName": "Rohan Sawant",
      "photoUrl": "https://lh3.googleusercontent.com/a-/AOh14Gjtxl3WLKLbZ5E1Tx7xWJhVsLDUVq_8IKKl-t4jWQ=s64",
      "userId": "08512062062939018513"
     },
     "user_tz": -330
    },
    "id": "RVKvcOx11ijy",
    "outputId": "8aec468e-4f34-4551-b969-7de2600f528d"
   },
   "outputs": [
    {
     "data": {
      "text/html": [
       "<div>\n",
       "<style scoped>\n",
       "    .dataframe tbody tr th:only-of-type {\n",
       "        vertical-align: middle;\n",
       "    }\n",
       "\n",
       "    .dataframe tbody tr th {\n",
       "        vertical-align: top;\n",
       "    }\n",
       "\n",
       "    .dataframe thead th {\n",
       "        text-align: right;\n",
       "    }\n",
       "</style>\n",
       "<table border=\"1\" class=\"dataframe\">\n",
       "  <thead>\n",
       "    <tr style=\"text-align: right;\">\n",
       "      <th></th>\n",
       "      <th>correct</th>\n",
       "      <th>incorrect</th>\n",
       "      <th>correct_char_count</th>\n",
       "      <th>incorrect_char_count</th>\n",
       "      <th>correct_word_count</th>\n",
       "      <th>incorrect_word_count</th>\n",
       "    </tr>\n",
       "  </thead>\n",
       "  <tbody>\n",
       "    <tr>\n",
       "      <th>209276</th>\n",
       "      <td>.</td>\n",
       "      <td>There is Mt .</td>\n",
       "      <td>1</td>\n",
       "      <td>13</td>\n",
       "      <td>1</td>\n",
       "      <td>4</td>\n",
       "    </tr>\n",
       "    <tr>\n",
       "      <th>91009</th>\n",
       "      <td>!</td>\n",
       "      <td>Do ours best !</td>\n",
       "      <td>1</td>\n",
       "      <td>14</td>\n",
       "      <td>1</td>\n",
       "      <td>4</td>\n",
       "    </tr>\n",
       "    <tr>\n",
       "      <th>10489</th>\n",
       "      <td>.</td>\n",
       "      <td>took some medicine .</td>\n",
       "      <td>1</td>\n",
       "      <td>20</td>\n",
       "      <td>1</td>\n",
       "      <td>4</td>\n",
       "    </tr>\n",
       "    <tr>\n",
       "      <th>42876</th>\n",
       "      <td>.</td>\n",
       "      <td>At first .</td>\n",
       "      <td>1</td>\n",
       "      <td>10</td>\n",
       "      <td>1</td>\n",
       "      <td>3</td>\n",
       "    </tr>\n",
       "    <tr>\n",
       "      <th>398148</th>\n",
       "      <td>.</td>\n",
       "      <td>them .</td>\n",
       "      <td>1</td>\n",
       "      <td>6</td>\n",
       "      <td>1</td>\n",
       "      <td>2</td>\n",
       "    </tr>\n",
       "    <tr>\n",
       "      <th>164087</th>\n",
       "      <td>?</td>\n",
       "      <td>' ? ?</td>\n",
       "      <td>1</td>\n",
       "      <td>5</td>\n",
       "      <td>1</td>\n",
       "      <td>3</td>\n",
       "    </tr>\n",
       "    <tr>\n",
       "      <th>30259</th>\n",
       "      <td>.</td>\n",
       "      <td>you .</td>\n",
       "      <td>1</td>\n",
       "      <td>5</td>\n",
       "      <td>1</td>\n",
       "      <td>2</td>\n",
       "    </tr>\n",
       "    <tr>\n",
       "      <th>34956</th>\n",
       "      <td>,</td>\n",
       "      <td>Maiko Nakai ,</td>\n",
       "      <td>1</td>\n",
       "      <td>13</td>\n",
       "      <td>1</td>\n",
       "      <td>3</td>\n",
       "    </tr>\n",
       "    <tr>\n",
       "      <th>153477</th>\n",
       "      <td>.</td>\n",
       "      <td>For Tech support .</td>\n",
       "      <td>1</td>\n",
       "      <td>18</td>\n",
       "      <td>1</td>\n",
       "      <td>4</td>\n",
       "    </tr>\n",
       "    <tr>\n",
       "      <th>251777</th>\n",
       "      <td>.</td>\n",
       "      <td>out .</td>\n",
       "      <td>1</td>\n",
       "      <td>5</td>\n",
       "      <td>1</td>\n",
       "      <td>2</td>\n",
       "    </tr>\n",
       "  </tbody>\n",
       "</table>\n",
       "</div>"
      ],
      "text/plain": [
       "       correct             incorrect  correct_char_count  \\\n",
       "209276       .         There is Mt .                   1   \n",
       "91009        !        Do ours best !                   1   \n",
       "10489        .  took some medicine .                   1   \n",
       "42876        .            At first .                   1   \n",
       "398148       .                them .                   1   \n",
       "164087       ?                 ' ? ?                   1   \n",
       "30259        .                 you .                   1   \n",
       "34956        ,         Maiko Nakai ,                   1   \n",
       "153477       .    For Tech support .                   1   \n",
       "251777       .                 out .                   1   \n",
       "\n",
       "        incorrect_char_count  correct_word_count  incorrect_word_count  \n",
       "209276                    13                   1                     4  \n",
       "91009                     14                   1                     4  \n",
       "10489                     20                   1                     4  \n",
       "42876                     10                   1                     3  \n",
       "398148                     6                   1                     2  \n",
       "164087                     5                   1                     3  \n",
       "30259                      5                   1                     2  \n",
       "34956                     13                   1                     3  \n",
       "153477                    18                   1                     4  \n",
       "251777                     5                   1                     2  "
      ]
     },
     "execution_count": 28,
     "metadata": {},
     "output_type": "execute_result"
    }
   ],
   "source": [
    "final_df[final_df['correct_char_count']<2].sample(10)"
   ]
  },
  {
   "cell_type": "code",
   "execution_count": 29,
   "metadata": {
    "id": "qgdvBJpO1gXk"
   },
   "outputs": [],
   "source": [
    "final_df = final_df[final_df['correct_char_count']>2].reset_index(drop=True)"
   ]
  },
  {
   "cell_type": "code",
   "execution_count": 30,
   "metadata": {
    "colab": {
     "base_uri": "https://localhost:8080/"
    },
    "executionInfo": {
     "elapsed": 30,
     "status": "ok",
     "timestamp": 1636733744225,
     "user": {
      "displayName": "Rohan Sawant",
      "photoUrl": "https://lh3.googleusercontent.com/a-/AOh14Gjtxl3WLKLbZ5E1Tx7xWJhVsLDUVq_8IKKl-t4jWQ=s64",
      "userId": "08512062062939018513"
     },
     "user_tz": -330
    },
    "id": "PMygwg7N1gXl",
    "outputId": "03a7a3fd-4419-4cd9-a0f0-358d150dd640"
   },
   "outputs": [
    {
     "data": {
      "text/plain": [
       "(496287, 6)"
      ]
     },
     "execution_count": 30,
     "metadata": {},
     "output_type": "execute_result"
    }
   ],
   "source": [
    "final_df.shape"
   ]
  },
  {
   "cell_type": "markdown",
   "metadata": {
    "id": "EL3lmngTIla-"
   },
   "source": [
    "### Clean text"
   ]
  },
  {
   "cell_type": "code",
   "execution_count": 31,
   "metadata": {
    "id": "aMsbUbc8Z0Fn"
   },
   "outputs": [],
   "source": [
    "#https://www.analyticsvidhya.com/blog/2020/04/beginners-guide-exploratory-data-analysis-text-data/\n",
    "contractions_dict = { \"ain't\": \"are not\",\"'s\":\" is\",\"aren't\": \"are not\",\n",
    "                     \"can't\": \"cannot\",\"can't've\": \"cannot have\",\n",
    "                     \"'cause\": \"because\",\"could've\": \"could have\",\"couldn't\": \"could not\",\n",
    "                     \"couldn't've\": \"could not have\", \"didn't\": \"did not\",\"doesn't\": \"does not\",\n",
    "                     \"don't\": \"do not\",\"hadn't\": \"had not\",\"hadn't've\": \"had not have\",\n",
    "                     \"hasn't\": \"has not\",\"haven't\": \"have not\",\"he'd\": \"he would\",\n",
    "                     \"he'd've\": \"he would have\",\"he'll\": \"he will\", \"he'll've\": \"he will have\",\n",
    "                     \"how'd\": \"how did\",\"how'd'y\": \"how do you\",\"how'll\": \"how will\",\n",
    "                     \"I'd\": \"I would\", \"I'd've\": \"I would have\",\"I'll\": \"I will\",\n",
    "                     \"I'll've\": \"I will have\",\"I'm\": \"I am\",\"I've\": \"I have\", \"isn't\": \"is not\",\n",
    "                     \"it'd\": \"it would\",\"it'd've\": \"it would have\",\"it'll\": \"it will\",\n",
    "                     \"it'll've\": \"it will have\", \"let's\": \"let us\",\"ma'am\": \"madam\",\n",
    "                     \"mayn't\": \"may not\",\"might've\": \"might have\",\"mightn't\": \"might not\", \n",
    "                     \"mightn't've\": \"might not have\",\"must've\": \"must have\",\"mustn't\": \"must not\",\n",
    "                     \"mustn't've\": \"must not have\", \"needn't\": \"need not\",\n",
    "                     \"needn't've\": \"need not have\",\"o'clock\": \"of the clock\",\"oughtn't\": \"ought not\",\n",
    "                     \"oughtn't've\": \"ought not have\",\"shan't\": \"shall not\",\"sha'n't\": \"shall not\",\n",
    "                     \"shan't've\": \"shall not have\",\"she'd\": \"she would\",\"she'd've\": \"she would have\",\n",
    "                     \"she'll\": \"she will\", \"she'll've\": \"she will have\",\"should've\": \"should have\",\n",
    "                     \"shouldn't\": \"should not\", \"shouldn't've\": \"should not have\",\"so've\": \"so have\",\n",
    "                     \"that'd\": \"that would\",\"that'd've\": \"that would have\", \"there'd\": \"there would\",\n",
    "                     \"there'd've\": \"there would have\", \"they'd\": \"they would\",\n",
    "                     \"they'd've\": \"they would have\",\"they'll\": \"they will\",\n",
    "                     \"they'll've\": \"they will have\", \"they're\": \"they are\",\"they've\": \"they have\",\n",
    "                     \"to've\": \"to have\",\"wasn't\": \"was not\",\"we'd\": \"we would\",\n",
    "                     \"we'd've\": \"we would have\",\"we'll\": \"we will\",\"we'll've\": \"we will have\",\n",
    "                     \"we're\": \"we are\",\"we've\": \"we have\", \"weren't\": \"were not\",\"what'll\": \"what will\",\n",
    "                     \"what'll've\": \"what will have\",\"what're\": \"what are\", \"what've\": \"what have\",\n",
    "                     \"when've\": \"when have\",\"where'd\": \"where did\", \"where've\": \"where have\",\n",
    "                     \"who'll\": \"who will\",\"who'll've\": \"who will have\",\"who've\": \"who have\",\n",
    "                     \"why've\": \"why have\",\"will've\": \"will have\",\"won't\": \"will not\",\n",
    "                     \"won't've\": \"will not have\", \"would've\": \"would have\",\"wouldn't\": \"would not\",\n",
    "                     \"wouldn't've\": \"would not have\",\"y'all\": \"you all\", \"y'all'd\": \"you all would\",\n",
    "                     \"y'all'd've\": \"you all would have\",\"y'all're\": \"you all are\",\n",
    "                     \"y'all've\": \"you all have\", \"you'd\": \"you would\",\"you'd've\": \"you would have\",\n",
    "                     \"you'll\": \"you will\",\"you'll've\": \"you will have\", \"you're\": \"you are\",\n",
    "                     \"you've\": \"you have\",\"n\\'t\":\" not\",\"\\'re\":\" are\",\"\\'s\": \" is\",\"\\'d\":\" would\",\n",
    "                     \"\\'ll\": \" will\",\"\\'t\":\" not\",\"\\'ve\": \" have\",\"\\'m\":\" am\"}\n",
    "\n",
    "\n",
    "# Regular expression for finding contractions\n",
    "contractions_re=re.compile('(%s)' % '|'.join(contractions_dict.keys()))\n",
    "\n",
    "# Function for expanding contractions\n",
    "def expand_contractions(text,contractions_dict=contractions_dict):\n",
    "    def replace(match):\n",
    "        return contractions_dict[match.group(0)]\n",
    "    return contractions_re.sub(replace, text)"
   ]
  },
  {
   "cell_type": "code",
   "execution_count": 32,
   "metadata": {
    "id": "gumcB_eQInN6"
   },
   "outputs": [],
   "source": [
    "# https://stackoverflow.com/a/47091490/4084039\n",
    "def clean(text):\n",
    "    text = re.sub('\\s*\\<.*?\\>\\s', '', text)\n",
    "    text = re.sub('\\s*\\(.*?\\)\\s', '', text)\n",
    "    text = re.sub('\\s*\\[.*?\\]\\s', '', text)\n",
    "    text = re.sub('\\s*\\{.*?\\}\\s', '', text)\n",
    "    text = re.sub(\"[-+@#^/|*(){}$~<>=_%:;]\",\"\",text)\n",
    "    text = text.replace(\"\\\\\",\"\")\n",
    "    text = re.sub(\"\\[\",\"\",text)\n",
    "    text = re.sub(\"\\]\",\"\",text)\n",
    "    text = re.sub(\"\\<\",\"\",text)\n",
    "    text = re.sub(\"\\>\",\"\",text)\n",
    "    text = re.sub(\"\\(\",\"\",text)\n",
    "    text = re.sub(\"\\)\",\"\",text)\n",
    "    text = re.sub(\"[0-9]\",\"\",text)\n",
    "    text = ' '.join(text.split())\n",
    "    return text"
   ]
  },
  {
   "cell_type": "code",
   "execution_count": 33,
   "metadata": {
    "colab": {
     "base_uri": "https://localhost:8080/",
     "height": 81,
     "referenced_widgets": [
      "3f8a084487024399a69e342f7202d445",
      "5c0e524b8bbf433aa6a53f3715aee74c",
      "29ace6b39c584a3b98c7750876e53633",
      "007e8924a0d0453098187c8109939e81",
      "f68027acde144df9ad9c017be483b703",
      "ce7a3c56fd97444494cc2f38e8e57a43",
      "d5eafb9ee70f44f7bf3d1909b8c06e1c",
      "18058444811e493fb74ecf88b48cf493",
      "cac00dcd99444fbf981d39ac86f6dbb1",
      "03187947e8ab40e387ce6b1ccbaca3de",
      "725a71da2f714517906eb54679c97f14",
      "76072d7100274196a826079c332449d2",
      "96d4514c83c44ab4a44aec3ce6e46efc",
      "f9fe50cde17b4209b39344141dee6637",
      "ced459385281493a98c7f7676f4f2f9a",
      "93633a2c25cb4bd58e6b5f7111e6e7f2",
      "1a414e543dbf4cec8cee15f9985d49fd",
      "86da2c4022cf4722b4262b0419d46ce6",
      "89df5acaf4f84199af69e25bd9dbc301",
      "0588aa3ac4c14d8183795eb027a72357",
      "d0dd6a55514043cbbe7258de4e99768d",
      "90c216fea49745a9b1a0a2a2467339de"
     ]
    },
    "executionInfo": {
     "elapsed": 23709,
     "status": "ok",
     "timestamp": 1636733767909,
     "user": {
      "displayName": "Rohan Sawant",
      "photoUrl": "https://lh3.googleusercontent.com/a-/AOh14Gjtxl3WLKLbZ5E1Tx7xWJhVsLDUVq_8IKKl-t4jWQ=s64",
      "userId": "08512062062939018513"
     },
     "user_tz": -330
    },
    "id": "MNo1RxVR3XAN",
    "outputId": "e40333e8-254c-4534-eb5f-c434ec542839"
   },
   "outputs": [
    {
     "data": {
      "application/vnd.jupyter.widget-view+json": {
       "model_id": "c39e9b89bf674dd3b43a36ecd5c415b3",
       "version_major": 2,
       "version_minor": 0
      },
      "text/plain": [
       "  0%|          | 0/496287 [00:00<?, ?it/s]"
      ]
     },
     "metadata": {},
     "output_type": "display_data"
    },
    {
     "data": {
      "application/vnd.jupyter.widget-view+json": {
       "model_id": "652819fb4af84b0f86ed969cb83f53e5",
       "version_major": 2,
       "version_minor": 0
      },
      "text/plain": [
       "  0%|          | 0/496287 [00:00<?, ?it/s]"
      ]
     },
     "metadata": {},
     "output_type": "display_data"
    }
   ],
   "source": [
    "final_df['correct'] = final_df['correct'].progress_apply(clean)\n",
    "final_df['correct'] = final_df['correct'].progress_apply(expand_contractions)"
   ]
  },
  {
   "cell_type": "code",
   "execution_count": 34,
   "metadata": {
    "colab": {
     "base_uri": "https://localhost:8080/",
     "height": 81,
     "referenced_widgets": [
      "1739a0421b544e36aaa9f50581000857",
      "610ee299c1c141b09c98804740c5fce0",
      "d4e2ff8083b340b8bac085970091fc6e",
      "19d80c1859de490cbcd34f435751fe9b",
      "a4a368e4587a4249803f2cc65ec59447",
      "87ba12b38efc40a9b4509f3973776aad",
      "36077d9581a64aeea1496fe193138806",
      "f0b5622a48ed4b6196bff2a42ab10208",
      "cfa8ef8bacd747bfbc703557dad8b4f5",
      "8c8804df37e94dc59fb97e2da8a2938c",
      "a3a89c5d7ee44b708a0a6350b3b2b9d7",
      "0a5f2bd7053244b4a369039d227c75dd",
      "045a53a37e4e40d099b62fadcec988dd",
      "d9f9983be2a94e9fa777ccf99eb3f300",
      "1c14101e20f545ba9c919e8865ee2128",
      "921ac82fe9e84ff9a1abbf1d6905ae10",
      "1514467bb2c54b989da0c5a81a07b725",
      "8d28c64430b64773ba76e34dcaba6d7d",
      "7ada1e4b7b3e440db107fc84e5ef0d7c",
      "5027577b9a8b46c78ed785fabb6c52f2",
      "271ece0e02164ab5892aa05722a3e797",
      "791f4c0d35284c68877ab21b552c342a"
     ]
    },
    "executionInfo": {
     "elapsed": 22648,
     "status": "ok",
     "timestamp": 1636733790521,
     "user": {
      "displayName": "Rohan Sawant",
      "photoUrl": "https://lh3.googleusercontent.com/a-/AOh14Gjtxl3WLKLbZ5E1Tx7xWJhVsLDUVq_8IKKl-t4jWQ=s64",
      "userId": "08512062062939018513"
     },
     "user_tz": -330
    },
    "id": "4QT7Vgv63onC",
    "outputId": "1464d91b-6554-4f9c-84d1-fbf9e6f129d6"
   },
   "outputs": [
    {
     "data": {
      "application/vnd.jupyter.widget-view+json": {
       "model_id": "2a9bc0feb2c643bb978ca74e82552e1b",
       "version_major": 2,
       "version_minor": 0
      },
      "text/plain": [
       "  0%|          | 0/496287 [00:00<?, ?it/s]"
      ]
     },
     "metadata": {},
     "output_type": "display_data"
    },
    {
     "data": {
      "application/vnd.jupyter.widget-view+json": {
       "model_id": "c5f6cc59469942d5a5e6c512ae0e83df",
       "version_major": 2,
       "version_minor": 0
      },
      "text/plain": [
       "  0%|          | 0/496287 [00:00<?, ?it/s]"
      ]
     },
     "metadata": {},
     "output_type": "display_data"
    }
   ],
   "source": [
    "final_df['incorrect'] = final_df['incorrect'].progress_apply(clean)\n",
    "final_df['incorrect'] = final_df['incorrect'].progress_apply(expand_contractions)"
   ]
  },
  {
   "cell_type": "code",
   "execution_count": 35,
   "metadata": {
    "colab": {
     "base_uri": "https://localhost:8080/",
     "height": 203
    },
    "executionInfo": {
     "elapsed": 41,
     "status": "ok",
     "timestamp": 1636733790522,
     "user": {
      "displayName": "Rohan Sawant",
      "photoUrl": "https://lh3.googleusercontent.com/a-/AOh14Gjtxl3WLKLbZ5E1Tx7xWJhVsLDUVq_8IKKl-t4jWQ=s64",
      "userId": "08512062062939018513"
     },
     "user_tz": -330
    },
    "id": "cdH2CLOHQsxb",
    "outputId": "a121fb8f-d7db-45ba-8916-fc952fc78ff0"
   },
   "outputs": [
    {
     "data": {
      "text/html": [
       "<div>\n",
       "<style scoped>\n",
       "    .dataframe tbody tr th:only-of-type {\n",
       "        vertical-align: middle;\n",
       "    }\n",
       "\n",
       "    .dataframe tbody tr th {\n",
       "        vertical-align: top;\n",
       "    }\n",
       "\n",
       "    .dataframe thead th {\n",
       "        text-align: right;\n",
       "    }\n",
       "</style>\n",
       "<table border=\"1\" class=\"dataframe\">\n",
       "  <thead>\n",
       "    <tr style=\"text-align: right;\">\n",
       "      <th></th>\n",
       "      <th>correct</th>\n",
       "      <th>incorrect</th>\n",
       "      <th>correct_char_count</th>\n",
       "      <th>incorrect_char_count</th>\n",
       "      <th>correct_word_count</th>\n",
       "      <th>incorrect_word_count</th>\n",
       "    </tr>\n",
       "  </thead>\n",
       "  <tbody>\n",
       "    <tr>\n",
       "      <th>245081</th>\n",
       "      <td>Korean people say that eating dogs is a cultur...</td>\n",
       "      <td>Korean people says eating dog culinary is a cu...</td>\n",
       "      <td>56</td>\n",
       "      <td>60</td>\n",
       "      <td>11</td>\n",
       "      <td>11</td>\n",
       "    </tr>\n",
       "    <tr>\n",
       "      <th>96659</th>\n",
       "      <td>I can sleep for as long as I want .</td>\n",
       "      <td>I can sleep whenever I want .</td>\n",
       "      <td>35</td>\n",
       "      <td>29</td>\n",
       "      <td>10</td>\n",
       "      <td>7</td>\n",
       "    </tr>\n",
       "    <tr>\n",
       "      <th>252856</th>\n",
       "      <td>When I started job hunting , I was concerned .</td>\n",
       "      <td>When I started my job hunting , I was concerned .</td>\n",
       "      <td>46</td>\n",
       "      <td>49</td>\n",
       "      <td>10</td>\n",
       "      <td>11</td>\n",
       "    </tr>\n",
       "    <tr>\n",
       "      <th>421142</th>\n",
       "      <td>At first , I was a worried , but I was relieve...</td>\n",
       "      <td>I was a little scary , but I was relieved to f...</td>\n",
       "      <td>95</td>\n",
       "      <td>89</td>\n",
       "      <td>23</td>\n",
       "      <td>21</td>\n",
       "    </tr>\n",
       "    <tr>\n",
       "      <th>449893</th>\n",
       "      <td>It was so nice .</td>\n",
       "      <td>It is so nice .</td>\n",
       "      <td>16</td>\n",
       "      <td>15</td>\n",
       "      <td>5</td>\n",
       "      <td>5</td>\n",
       "    </tr>\n",
       "  </tbody>\n",
       "</table>\n",
       "</div>"
      ],
      "text/plain": [
       "                                                  correct  \\\n",
       "245081  Korean people say that eating dogs is a cultur...   \n",
       "96659                 I can sleep for as long as I want .   \n",
       "252856     When I started job hunting , I was concerned .   \n",
       "421142  At first , I was a worried , but I was relieve...   \n",
       "449893                                   It was so nice .   \n",
       "\n",
       "                                                incorrect  correct_char_count  \\\n",
       "245081  Korean people says eating dog culinary is a cu...                  56   \n",
       "96659                       I can sleep whenever I want .                  35   \n",
       "252856  When I started my job hunting , I was concerned .                  46   \n",
       "421142  I was a little scary , but I was relieved to f...                  95   \n",
       "449893                                    It is so nice .                  16   \n",
       "\n",
       "        incorrect_char_count  correct_word_count  incorrect_word_count  \n",
       "245081                    60                  11                    11  \n",
       "96659                     29                  10                     7  \n",
       "252856                    49                  10                    11  \n",
       "421142                    89                  23                    21  \n",
       "449893                    15                   5                     5  "
      ]
     },
     "execution_count": 35,
     "metadata": {},
     "output_type": "execute_result"
    }
   ],
   "source": [
    "final_df.sample(5)"
   ]
  },
  {
   "cell_type": "code",
   "execution_count": 36,
   "metadata": {
    "colab": {
     "base_uri": "https://localhost:8080/"
    },
    "executionInfo": {
     "elapsed": 435,
     "status": "ok",
     "timestamp": 1636734429458,
     "user": {
      "displayName": "Rohan Sawant",
      "photoUrl": "https://lh3.googleusercontent.com/a-/AOh14Gjtxl3WLKLbZ5E1Tx7xWJhVsLDUVq_8IKKl-t4jWQ=s64",
      "userId": "08512062062939018513"
     },
     "user_tz": -330
    },
    "id": "vb7gweNW8FeD",
    "outputId": "23fba552-99be-43f4-ce8d-3bec6053a349"
   },
   "outputs": [
    {
     "data": {
      "text/plain": [
       "correct                 0\n",
       "incorrect               0\n",
       "correct_char_count      0\n",
       "incorrect_char_count    0\n",
       "correct_word_count      0\n",
       "incorrect_word_count    0\n",
       "dtype: int64"
      ]
     },
     "execution_count": 36,
     "metadata": {},
     "output_type": "execute_result"
    }
   ],
   "source": [
    "final_df.isna().sum()"
   ]
  },
  {
   "cell_type": "code",
   "execution_count": 38,
   "metadata": {
    "id": "i-rO3QbVRxMX"
   },
   "outputs": [],
   "source": [
    "final_df.to_csv('final_df_preprocessed_2021111201.csv',index=False)"
   ]
  },
  {
   "cell_type": "code",
   "execution_count": null,
   "metadata": {},
   "outputs": [],
   "source": []
  }
 ],
 "metadata": {
  "colab": {
   "authorship_tag": "ABX9TyP/DJPue0/Utmx+xrCoRBx/",
   "collapsed_sections": [],
   "mount_file_id": "14V0_lHrCYEzfIa-VY3kq1JM3Xtwhqitu",
   "name": "CS02.02 Data Preprocessing",
   "provenance": []
  },
  "kernelspec": {
   "display_name": "Python 3 (ipykernel)",
   "language": "python",
   "name": "python3"
  },
  "language_info": {
   "codemirror_mode": {
    "name": "ipython",
    "version": 3
   },
   "file_extension": ".py",
   "mimetype": "text/x-python",
   "name": "python",
   "nbconvert_exporter": "python",
   "pygments_lexer": "ipython3",
   "version": "3.10.9"
  },
  "widgets": {
   "application/vnd.jupyter.widget-state+json": {
    "007e8924a0d0453098187c8109939e81": {
     "model_module": "@jupyter-widgets/controls",
     "model_module_version": "1.5.0",
     "model_name": "FloatProgressModel",
     "state": {
      "_dom_classes": [],
      "_model_module": "@jupyter-widgets/controls",
      "_model_module_version": "1.5.0",
      "_model_name": "FloatProgressModel",
      "_view_count": null,
      "_view_module": "@jupyter-widgets/controls",
      "_view_module_version": "1.5.0",
      "_view_name": "ProgressView",
      "bar_style": "success",
      "description": "",
      "description_tooltip": null,
      "layout": "IPY_MODEL_cac00dcd99444fbf981d39ac86f6dbb1",
      "max": 496287,
      "min": 0,
      "orientation": "horizontal",
      "style": "IPY_MODEL_18058444811e493fb74ecf88b48cf493",
      "value": 496287
     }
    },
    "03187947e8ab40e387ce6b1ccbaca3de": {
     "model_module": "@jupyter-widgets/controls",
     "model_module_version": "1.5.0",
     "model_name": "DescriptionStyleModel",
     "state": {
      "_model_module": "@jupyter-widgets/controls",
      "_model_module_version": "1.5.0",
      "_model_name": "DescriptionStyleModel",
      "_view_count": null,
      "_view_module": "@jupyter-widgets/base",
      "_view_module_version": "1.2.0",
      "_view_name": "StyleView",
      "description_width": ""
     }
    },
    "045a53a37e4e40d099b62fadcec988dd": {
     "model_module": "@jupyter-widgets/base",
     "model_module_version": "1.2.0",
     "model_name": "LayoutModel",
     "state": {
      "_model_module": "@jupyter-widgets/base",
      "_model_module_version": "1.2.0",
      "_model_name": "LayoutModel",
      "_view_count": null,
      "_view_module": "@jupyter-widgets/base",
      "_view_module_version": "1.2.0",
      "_view_name": "LayoutView",
      "align_content": null,
      "align_items": null,
      "align_self": null,
      "border": null,
      "bottom": null,
      "display": null,
      "flex": null,
      "flex_flow": null,
      "grid_area": null,
      "grid_auto_columns": null,
      "grid_auto_flow": null,
      "grid_auto_rows": null,
      "grid_column": null,
      "grid_gap": null,
      "grid_row": null,
      "grid_template_areas": null,
      "grid_template_columns": null,
      "grid_template_rows": null,
      "height": null,
      "justify_content": null,
      "justify_items": null,
      "left": null,
      "margin": null,
      "max_height": null,
      "max_width": null,
      "min_height": null,
      "min_width": null,
      "object_fit": null,
      "object_position": null,
      "order": null,
      "overflow": null,
      "overflow_x": null,
      "overflow_y": null,
      "padding": null,
      "right": null,
      "top": null,
      "visibility": null,
      "width": null
     }
    },
    "0588aa3ac4c14d8183795eb027a72357": {
     "model_module": "@jupyter-widgets/base",
     "model_module_version": "1.2.0",
     "model_name": "LayoutModel",
     "state": {
      "_model_module": "@jupyter-widgets/base",
      "_model_module_version": "1.2.0",
      "_model_name": "LayoutModel",
      "_view_count": null,
      "_view_module": "@jupyter-widgets/base",
      "_view_module_version": "1.2.0",
      "_view_name": "LayoutView",
      "align_content": null,
      "align_items": null,
      "align_self": null,
      "border": null,
      "bottom": null,
      "display": null,
      "flex": null,
      "flex_flow": null,
      "grid_area": null,
      "grid_auto_columns": null,
      "grid_auto_flow": null,
      "grid_auto_rows": null,
      "grid_column": null,
      "grid_gap": null,
      "grid_row": null,
      "grid_template_areas": null,
      "grid_template_columns": null,
      "grid_template_rows": null,
      "height": null,
      "justify_content": null,
      "justify_items": null,
      "left": null,
      "margin": null,
      "max_height": null,
      "max_width": null,
      "min_height": null,
      "min_width": null,
      "object_fit": null,
      "object_position": null,
      "order": null,
      "overflow": null,
      "overflow_x": null,
      "overflow_y": null,
      "padding": null,
      "right": null,
      "top": null,
      "visibility": null,
      "width": null
     }
    },
    "0a5f2bd7053244b4a369039d227c75dd": {
     "model_module": "@jupyter-widgets/controls",
     "model_module_version": "1.5.0",
     "model_name": "HBoxModel",
     "state": {
      "_dom_classes": [],
      "_model_module": "@jupyter-widgets/controls",
      "_model_module_version": "1.5.0",
      "_model_name": "HBoxModel",
      "_view_count": null,
      "_view_module": "@jupyter-widgets/controls",
      "_view_module_version": "1.5.0",
      "_view_name": "HBoxView",
      "box_style": "",
      "children": [
       "IPY_MODEL_d9f9983be2a94e9fa777ccf99eb3f300",
       "IPY_MODEL_1c14101e20f545ba9c919e8865ee2128",
       "IPY_MODEL_921ac82fe9e84ff9a1abbf1d6905ae10"
      ],
      "layout": "IPY_MODEL_045a53a37e4e40d099b62fadcec988dd"
     }
    },
    "1514467bb2c54b989da0c5a81a07b725": {
     "model_module": "@jupyter-widgets/controls",
     "model_module_version": "1.5.0",
     "model_name": "DescriptionStyleModel",
     "state": {
      "_model_module": "@jupyter-widgets/controls",
      "_model_module_version": "1.5.0",
      "_model_name": "DescriptionStyleModel",
      "_view_count": null,
      "_view_module": "@jupyter-widgets/base",
      "_view_module_version": "1.2.0",
      "_view_name": "StyleView",
      "description_width": ""
     }
    },
    "1739a0421b544e36aaa9f50581000857": {
     "model_module": "@jupyter-widgets/controls",
     "model_module_version": "1.5.0",
     "model_name": "HBoxModel",
     "state": {
      "_dom_classes": [],
      "_model_module": "@jupyter-widgets/controls",
      "_model_module_version": "1.5.0",
      "_model_name": "HBoxModel",
      "_view_count": null,
      "_view_module": "@jupyter-widgets/controls",
      "_view_module_version": "1.5.0",
      "_view_name": "HBoxView",
      "box_style": "",
      "children": [
       "IPY_MODEL_d4e2ff8083b340b8bac085970091fc6e",
       "IPY_MODEL_19d80c1859de490cbcd34f435751fe9b",
       "IPY_MODEL_a4a368e4587a4249803f2cc65ec59447"
      ],
      "layout": "IPY_MODEL_610ee299c1c141b09c98804740c5fce0"
     }
    },
    "18058444811e493fb74ecf88b48cf493": {
     "model_module": "@jupyter-widgets/controls",
     "model_module_version": "1.5.0",
     "model_name": "ProgressStyleModel",
     "state": {
      "_model_module": "@jupyter-widgets/controls",
      "_model_module_version": "1.5.0",
      "_model_name": "ProgressStyleModel",
      "_view_count": null,
      "_view_module": "@jupyter-widgets/base",
      "_view_module_version": "1.2.0",
      "_view_name": "StyleView",
      "bar_color": null,
      "description_width": ""
     }
    },
    "19d80c1859de490cbcd34f435751fe9b": {
     "model_module": "@jupyter-widgets/controls",
     "model_module_version": "1.5.0",
     "model_name": "FloatProgressModel",
     "state": {
      "_dom_classes": [],
      "_model_module": "@jupyter-widgets/controls",
      "_model_module_version": "1.5.0",
      "_model_name": "FloatProgressModel",
      "_view_count": null,
      "_view_module": "@jupyter-widgets/controls",
      "_view_module_version": "1.5.0",
      "_view_name": "ProgressView",
      "bar_style": "success",
      "description": "",
      "description_tooltip": null,
      "layout": "IPY_MODEL_cfa8ef8bacd747bfbc703557dad8b4f5",
      "max": 496287,
      "min": 0,
      "orientation": "horizontal",
      "style": "IPY_MODEL_f0b5622a48ed4b6196bff2a42ab10208",
      "value": 496287
     }
    },
    "1a414e543dbf4cec8cee15f9985d49fd": {
     "model_module": "@jupyter-widgets/controls",
     "model_module_version": "1.5.0",
     "model_name": "DescriptionStyleModel",
     "state": {
      "_model_module": "@jupyter-widgets/controls",
      "_model_module_version": "1.5.0",
      "_model_name": "DescriptionStyleModel",
      "_view_count": null,
      "_view_module": "@jupyter-widgets/base",
      "_view_module_version": "1.2.0",
      "_view_name": "StyleView",
      "description_width": ""
     }
    },
    "1c14101e20f545ba9c919e8865ee2128": {
     "model_module": "@jupyter-widgets/controls",
     "model_module_version": "1.5.0",
     "model_name": "FloatProgressModel",
     "state": {
      "_dom_classes": [],
      "_model_module": "@jupyter-widgets/controls",
      "_model_module_version": "1.5.0",
      "_model_name": "FloatProgressModel",
      "_view_count": null,
      "_view_module": "@jupyter-widgets/controls",
      "_view_module_version": "1.5.0",
      "_view_name": "ProgressView",
      "bar_style": "success",
      "description": "",
      "description_tooltip": null,
      "layout": "IPY_MODEL_5027577b9a8b46c78ed785fabb6c52f2",
      "max": 496287,
      "min": 0,
      "orientation": "horizontal",
      "style": "IPY_MODEL_7ada1e4b7b3e440db107fc84e5ef0d7c",
      "value": 496287
     }
    },
    "271ece0e02164ab5892aa05722a3e797": {
     "model_module": "@jupyter-widgets/controls",
     "model_module_version": "1.5.0",
     "model_name": "DescriptionStyleModel",
     "state": {
      "_model_module": "@jupyter-widgets/controls",
      "_model_module_version": "1.5.0",
      "_model_name": "DescriptionStyleModel",
      "_view_count": null,
      "_view_module": "@jupyter-widgets/base",
      "_view_module_version": "1.2.0",
      "_view_name": "StyleView",
      "description_width": ""
     }
    },
    "29ace6b39c584a3b98c7750876e53633": {
     "model_module": "@jupyter-widgets/controls",
     "model_module_version": "1.5.0",
     "model_name": "HTMLModel",
     "state": {
      "_dom_classes": [],
      "_model_module": "@jupyter-widgets/controls",
      "_model_module_version": "1.5.0",
      "_model_name": "HTMLModel",
      "_view_count": null,
      "_view_module": "@jupyter-widgets/controls",
      "_view_module_version": "1.5.0",
      "_view_name": "HTMLView",
      "description": "",
      "description_tooltip": null,
      "layout": "IPY_MODEL_d5eafb9ee70f44f7bf3d1909b8c06e1c",
      "placeholder": "​",
      "style": "IPY_MODEL_ce7a3c56fd97444494cc2f38e8e57a43",
      "value": "100%"
     }
    },
    "36077d9581a64aeea1496fe193138806": {
     "model_module": "@jupyter-widgets/base",
     "model_module_version": "1.2.0",
     "model_name": "LayoutModel",
     "state": {
      "_model_module": "@jupyter-widgets/base",
      "_model_module_version": "1.2.0",
      "_model_name": "LayoutModel",
      "_view_count": null,
      "_view_module": "@jupyter-widgets/base",
      "_view_module_version": "1.2.0",
      "_view_name": "LayoutView",
      "align_content": null,
      "align_items": null,
      "align_self": null,
      "border": null,
      "bottom": null,
      "display": null,
      "flex": null,
      "flex_flow": null,
      "grid_area": null,
      "grid_auto_columns": null,
      "grid_auto_flow": null,
      "grid_auto_rows": null,
      "grid_column": null,
      "grid_gap": null,
      "grid_row": null,
      "grid_template_areas": null,
      "grid_template_columns": null,
      "grid_template_rows": null,
      "height": null,
      "justify_content": null,
      "justify_items": null,
      "left": null,
      "margin": null,
      "max_height": null,
      "max_width": null,
      "min_height": null,
      "min_width": null,
      "object_fit": null,
      "object_position": null,
      "order": null,
      "overflow": null,
      "overflow_x": null,
      "overflow_y": null,
      "padding": null,
      "right": null,
      "top": null,
      "visibility": null,
      "width": null
     }
    },
    "3f8a084487024399a69e342f7202d445": {
     "model_module": "@jupyter-widgets/controls",
     "model_module_version": "1.5.0",
     "model_name": "HBoxModel",
     "state": {
      "_dom_classes": [],
      "_model_module": "@jupyter-widgets/controls",
      "_model_module_version": "1.5.0",
      "_model_name": "HBoxModel",
      "_view_count": null,
      "_view_module": "@jupyter-widgets/controls",
      "_view_module_version": "1.5.0",
      "_view_name": "HBoxView",
      "box_style": "",
      "children": [
       "IPY_MODEL_29ace6b39c584a3b98c7750876e53633",
       "IPY_MODEL_007e8924a0d0453098187c8109939e81",
       "IPY_MODEL_f68027acde144df9ad9c017be483b703"
      ],
      "layout": "IPY_MODEL_5c0e524b8bbf433aa6a53f3715aee74c"
     }
    },
    "5027577b9a8b46c78ed785fabb6c52f2": {
     "model_module": "@jupyter-widgets/base",
     "model_module_version": "1.2.0",
     "model_name": "LayoutModel",
     "state": {
      "_model_module": "@jupyter-widgets/base",
      "_model_module_version": "1.2.0",
      "_model_name": "LayoutModel",
      "_view_count": null,
      "_view_module": "@jupyter-widgets/base",
      "_view_module_version": "1.2.0",
      "_view_name": "LayoutView",
      "align_content": null,
      "align_items": null,
      "align_self": null,
      "border": null,
      "bottom": null,
      "display": null,
      "flex": null,
      "flex_flow": null,
      "grid_area": null,
      "grid_auto_columns": null,
      "grid_auto_flow": null,
      "grid_auto_rows": null,
      "grid_column": null,
      "grid_gap": null,
      "grid_row": null,
      "grid_template_areas": null,
      "grid_template_columns": null,
      "grid_template_rows": null,
      "height": null,
      "justify_content": null,
      "justify_items": null,
      "left": null,
      "margin": null,
      "max_height": null,
      "max_width": null,
      "min_height": null,
      "min_width": null,
      "object_fit": null,
      "object_position": null,
      "order": null,
      "overflow": null,
      "overflow_x": null,
      "overflow_y": null,
      "padding": null,
      "right": null,
      "top": null,
      "visibility": null,
      "width": null
     }
    },
    "5c0e524b8bbf433aa6a53f3715aee74c": {
     "model_module": "@jupyter-widgets/base",
     "model_module_version": "1.2.0",
     "model_name": "LayoutModel",
     "state": {
      "_model_module": "@jupyter-widgets/base",
      "_model_module_version": "1.2.0",
      "_model_name": "LayoutModel",
      "_view_count": null,
      "_view_module": "@jupyter-widgets/base",
      "_view_module_version": "1.2.0",
      "_view_name": "LayoutView",
      "align_content": null,
      "align_items": null,
      "align_self": null,
      "border": null,
      "bottom": null,
      "display": null,
      "flex": null,
      "flex_flow": null,
      "grid_area": null,
      "grid_auto_columns": null,
      "grid_auto_flow": null,
      "grid_auto_rows": null,
      "grid_column": null,
      "grid_gap": null,
      "grid_row": null,
      "grid_template_areas": null,
      "grid_template_columns": null,
      "grid_template_rows": null,
      "height": null,
      "justify_content": null,
      "justify_items": null,
      "left": null,
      "margin": null,
      "max_height": null,
      "max_width": null,
      "min_height": null,
      "min_width": null,
      "object_fit": null,
      "object_position": null,
      "order": null,
      "overflow": null,
      "overflow_x": null,
      "overflow_y": null,
      "padding": null,
      "right": null,
      "top": null,
      "visibility": null,
      "width": null
     }
    },
    "610ee299c1c141b09c98804740c5fce0": {
     "model_module": "@jupyter-widgets/base",
     "model_module_version": "1.2.0",
     "model_name": "LayoutModel",
     "state": {
      "_model_module": "@jupyter-widgets/base",
      "_model_module_version": "1.2.0",
      "_model_name": "LayoutModel",
      "_view_count": null,
      "_view_module": "@jupyter-widgets/base",
      "_view_module_version": "1.2.0",
      "_view_name": "LayoutView",
      "align_content": null,
      "align_items": null,
      "align_self": null,
      "border": null,
      "bottom": null,
      "display": null,
      "flex": null,
      "flex_flow": null,
      "grid_area": null,
      "grid_auto_columns": null,
      "grid_auto_flow": null,
      "grid_auto_rows": null,
      "grid_column": null,
      "grid_gap": null,
      "grid_row": null,
      "grid_template_areas": null,
      "grid_template_columns": null,
      "grid_template_rows": null,
      "height": null,
      "justify_content": null,
      "justify_items": null,
      "left": null,
      "margin": null,
      "max_height": null,
      "max_width": null,
      "min_height": null,
      "min_width": null,
      "object_fit": null,
      "object_position": null,
      "order": null,
      "overflow": null,
      "overflow_x": null,
      "overflow_y": null,
      "padding": null,
      "right": null,
      "top": null,
      "visibility": null,
      "width": null
     }
    },
    "725a71da2f714517906eb54679c97f14": {
     "model_module": "@jupyter-widgets/base",
     "model_module_version": "1.2.0",
     "model_name": "LayoutModel",
     "state": {
      "_model_module": "@jupyter-widgets/base",
      "_model_module_version": "1.2.0",
      "_model_name": "LayoutModel",
      "_view_count": null,
      "_view_module": "@jupyter-widgets/base",
      "_view_module_version": "1.2.0",
      "_view_name": "LayoutView",
      "align_content": null,
      "align_items": null,
      "align_self": null,
      "border": null,
      "bottom": null,
      "display": null,
      "flex": null,
      "flex_flow": null,
      "grid_area": null,
      "grid_auto_columns": null,
      "grid_auto_flow": null,
      "grid_auto_rows": null,
      "grid_column": null,
      "grid_gap": null,
      "grid_row": null,
      "grid_template_areas": null,
      "grid_template_columns": null,
      "grid_template_rows": null,
      "height": null,
      "justify_content": null,
      "justify_items": null,
      "left": null,
      "margin": null,
      "max_height": null,
      "max_width": null,
      "min_height": null,
      "min_width": null,
      "object_fit": null,
      "object_position": null,
      "order": null,
      "overflow": null,
      "overflow_x": null,
      "overflow_y": null,
      "padding": null,
      "right": null,
      "top": null,
      "visibility": null,
      "width": null
     }
    },
    "76072d7100274196a826079c332449d2": {
     "model_module": "@jupyter-widgets/controls",
     "model_module_version": "1.5.0",
     "model_name": "HBoxModel",
     "state": {
      "_dom_classes": [],
      "_model_module": "@jupyter-widgets/controls",
      "_model_module_version": "1.5.0",
      "_model_name": "HBoxModel",
      "_view_count": null,
      "_view_module": "@jupyter-widgets/controls",
      "_view_module_version": "1.5.0",
      "_view_name": "HBoxView",
      "box_style": "",
      "children": [
       "IPY_MODEL_f9fe50cde17b4209b39344141dee6637",
       "IPY_MODEL_ced459385281493a98c7f7676f4f2f9a",
       "IPY_MODEL_93633a2c25cb4bd58e6b5f7111e6e7f2"
      ],
      "layout": "IPY_MODEL_96d4514c83c44ab4a44aec3ce6e46efc"
     }
    },
    "791f4c0d35284c68877ab21b552c342a": {
     "model_module": "@jupyter-widgets/base",
     "model_module_version": "1.2.0",
     "model_name": "LayoutModel",
     "state": {
      "_model_module": "@jupyter-widgets/base",
      "_model_module_version": "1.2.0",
      "_model_name": "LayoutModel",
      "_view_count": null,
      "_view_module": "@jupyter-widgets/base",
      "_view_module_version": "1.2.0",
      "_view_name": "LayoutView",
      "align_content": null,
      "align_items": null,
      "align_self": null,
      "border": null,
      "bottom": null,
      "display": null,
      "flex": null,
      "flex_flow": null,
      "grid_area": null,
      "grid_auto_columns": null,
      "grid_auto_flow": null,
      "grid_auto_rows": null,
      "grid_column": null,
      "grid_gap": null,
      "grid_row": null,
      "grid_template_areas": null,
      "grid_template_columns": null,
      "grid_template_rows": null,
      "height": null,
      "justify_content": null,
      "justify_items": null,
      "left": null,
      "margin": null,
      "max_height": null,
      "max_width": null,
      "min_height": null,
      "min_width": null,
      "object_fit": null,
      "object_position": null,
      "order": null,
      "overflow": null,
      "overflow_x": null,
      "overflow_y": null,
      "padding": null,
      "right": null,
      "top": null,
      "visibility": null,
      "width": null
     }
    },
    "7ada1e4b7b3e440db107fc84e5ef0d7c": {
     "model_module": "@jupyter-widgets/controls",
     "model_module_version": "1.5.0",
     "model_name": "ProgressStyleModel",
     "state": {
      "_model_module": "@jupyter-widgets/controls",
      "_model_module_version": "1.5.0",
      "_model_name": "ProgressStyleModel",
      "_view_count": null,
      "_view_module": "@jupyter-widgets/base",
      "_view_module_version": "1.2.0",
      "_view_name": "StyleView",
      "bar_color": null,
      "description_width": ""
     }
    },
    "86da2c4022cf4722b4262b0419d46ce6": {
     "model_module": "@jupyter-widgets/base",
     "model_module_version": "1.2.0",
     "model_name": "LayoutModel",
     "state": {
      "_model_module": "@jupyter-widgets/base",
      "_model_module_version": "1.2.0",
      "_model_name": "LayoutModel",
      "_view_count": null,
      "_view_module": "@jupyter-widgets/base",
      "_view_module_version": "1.2.0",
      "_view_name": "LayoutView",
      "align_content": null,
      "align_items": null,
      "align_self": null,
      "border": null,
      "bottom": null,
      "display": null,
      "flex": null,
      "flex_flow": null,
      "grid_area": null,
      "grid_auto_columns": null,
      "grid_auto_flow": null,
      "grid_auto_rows": null,
      "grid_column": null,
      "grid_gap": null,
      "grid_row": null,
      "grid_template_areas": null,
      "grid_template_columns": null,
      "grid_template_rows": null,
      "height": null,
      "justify_content": null,
      "justify_items": null,
      "left": null,
      "margin": null,
      "max_height": null,
      "max_width": null,
      "min_height": null,
      "min_width": null,
      "object_fit": null,
      "object_position": null,
      "order": null,
      "overflow": null,
      "overflow_x": null,
      "overflow_y": null,
      "padding": null,
      "right": null,
      "top": null,
      "visibility": null,
      "width": null
     }
    },
    "87ba12b38efc40a9b4509f3973776aad": {
     "model_module": "@jupyter-widgets/controls",
     "model_module_version": "1.5.0",
     "model_name": "DescriptionStyleModel",
     "state": {
      "_model_module": "@jupyter-widgets/controls",
      "_model_module_version": "1.5.0",
      "_model_name": "DescriptionStyleModel",
      "_view_count": null,
      "_view_module": "@jupyter-widgets/base",
      "_view_module_version": "1.2.0",
      "_view_name": "StyleView",
      "description_width": ""
     }
    },
    "89df5acaf4f84199af69e25bd9dbc301": {
     "model_module": "@jupyter-widgets/controls",
     "model_module_version": "1.5.0",
     "model_name": "ProgressStyleModel",
     "state": {
      "_model_module": "@jupyter-widgets/controls",
      "_model_module_version": "1.5.0",
      "_model_name": "ProgressStyleModel",
      "_view_count": null,
      "_view_module": "@jupyter-widgets/base",
      "_view_module_version": "1.2.0",
      "_view_name": "StyleView",
      "bar_color": null,
      "description_width": ""
     }
    },
    "8c8804df37e94dc59fb97e2da8a2938c": {
     "model_module": "@jupyter-widgets/controls",
     "model_module_version": "1.5.0",
     "model_name": "DescriptionStyleModel",
     "state": {
      "_model_module": "@jupyter-widgets/controls",
      "_model_module_version": "1.5.0",
      "_model_name": "DescriptionStyleModel",
      "_view_count": null,
      "_view_module": "@jupyter-widgets/base",
      "_view_module_version": "1.2.0",
      "_view_name": "StyleView",
      "description_width": ""
     }
    },
    "8d28c64430b64773ba76e34dcaba6d7d": {
     "model_module": "@jupyter-widgets/base",
     "model_module_version": "1.2.0",
     "model_name": "LayoutModel",
     "state": {
      "_model_module": "@jupyter-widgets/base",
      "_model_module_version": "1.2.0",
      "_model_name": "LayoutModel",
      "_view_count": null,
      "_view_module": "@jupyter-widgets/base",
      "_view_module_version": "1.2.0",
      "_view_name": "LayoutView",
      "align_content": null,
      "align_items": null,
      "align_self": null,
      "border": null,
      "bottom": null,
      "display": null,
      "flex": null,
      "flex_flow": null,
      "grid_area": null,
      "grid_auto_columns": null,
      "grid_auto_flow": null,
      "grid_auto_rows": null,
      "grid_column": null,
      "grid_gap": null,
      "grid_row": null,
      "grid_template_areas": null,
      "grid_template_columns": null,
      "grid_template_rows": null,
      "height": null,
      "justify_content": null,
      "justify_items": null,
      "left": null,
      "margin": null,
      "max_height": null,
      "max_width": null,
      "min_height": null,
      "min_width": null,
      "object_fit": null,
      "object_position": null,
      "order": null,
      "overflow": null,
      "overflow_x": null,
      "overflow_y": null,
      "padding": null,
      "right": null,
      "top": null,
      "visibility": null,
      "width": null
     }
    },
    "90c216fea49745a9b1a0a2a2467339de": {
     "model_module": "@jupyter-widgets/base",
     "model_module_version": "1.2.0",
     "model_name": "LayoutModel",
     "state": {
      "_model_module": "@jupyter-widgets/base",
      "_model_module_version": "1.2.0",
      "_model_name": "LayoutModel",
      "_view_count": null,
      "_view_module": "@jupyter-widgets/base",
      "_view_module_version": "1.2.0",
      "_view_name": "LayoutView",
      "align_content": null,
      "align_items": null,
      "align_self": null,
      "border": null,
      "bottom": null,
      "display": null,
      "flex": null,
      "flex_flow": null,
      "grid_area": null,
      "grid_auto_columns": null,
      "grid_auto_flow": null,
      "grid_auto_rows": null,
      "grid_column": null,
      "grid_gap": null,
      "grid_row": null,
      "grid_template_areas": null,
      "grid_template_columns": null,
      "grid_template_rows": null,
      "height": null,
      "justify_content": null,
      "justify_items": null,
      "left": null,
      "margin": null,
      "max_height": null,
      "max_width": null,
      "min_height": null,
      "min_width": null,
      "object_fit": null,
      "object_position": null,
      "order": null,
      "overflow": null,
      "overflow_x": null,
      "overflow_y": null,
      "padding": null,
      "right": null,
      "top": null,
      "visibility": null,
      "width": null
     }
    },
    "921ac82fe9e84ff9a1abbf1d6905ae10": {
     "model_module": "@jupyter-widgets/controls",
     "model_module_version": "1.5.0",
     "model_name": "HTMLModel",
     "state": {
      "_dom_classes": [],
      "_model_module": "@jupyter-widgets/controls",
      "_model_module_version": "1.5.0",
      "_model_name": "HTMLModel",
      "_view_count": null,
      "_view_module": "@jupyter-widgets/controls",
      "_view_module_version": "1.5.0",
      "_view_name": "HTMLView",
      "description": "",
      "description_tooltip": null,
      "layout": "IPY_MODEL_791f4c0d35284c68877ab21b552c342a",
      "placeholder": "​",
      "style": "IPY_MODEL_271ece0e02164ab5892aa05722a3e797",
      "value": " 496287/496287 [00:09&lt;00:00, 52135.35it/s]"
     }
    },
    "93633a2c25cb4bd58e6b5f7111e6e7f2": {
     "model_module": "@jupyter-widgets/controls",
     "model_module_version": "1.5.0",
     "model_name": "HTMLModel",
     "state": {
      "_dom_classes": [],
      "_model_module": "@jupyter-widgets/controls",
      "_model_module_version": "1.5.0",
      "_model_name": "HTMLModel",
      "_view_count": null,
      "_view_module": "@jupyter-widgets/controls",
      "_view_module_version": "1.5.0",
      "_view_name": "HTMLView",
      "description": "",
      "description_tooltip": null,
      "layout": "IPY_MODEL_90c216fea49745a9b1a0a2a2467339de",
      "placeholder": "​",
      "style": "IPY_MODEL_d0dd6a55514043cbbe7258de4e99768d",
      "value": " 496287/496287 [00:09&lt;00:00, 51921.21it/s]"
     }
    },
    "96d4514c83c44ab4a44aec3ce6e46efc": {
     "model_module": "@jupyter-widgets/base",
     "model_module_version": "1.2.0",
     "model_name": "LayoutModel",
     "state": {
      "_model_module": "@jupyter-widgets/base",
      "_model_module_version": "1.2.0",
      "_model_name": "LayoutModel",
      "_view_count": null,
      "_view_module": "@jupyter-widgets/base",
      "_view_module_version": "1.2.0",
      "_view_name": "LayoutView",
      "align_content": null,
      "align_items": null,
      "align_self": null,
      "border": null,
      "bottom": null,
      "display": null,
      "flex": null,
      "flex_flow": null,
      "grid_area": null,
      "grid_auto_columns": null,
      "grid_auto_flow": null,
      "grid_auto_rows": null,
      "grid_column": null,
      "grid_gap": null,
      "grid_row": null,
      "grid_template_areas": null,
      "grid_template_columns": null,
      "grid_template_rows": null,
      "height": null,
      "justify_content": null,
      "justify_items": null,
      "left": null,
      "margin": null,
      "max_height": null,
      "max_width": null,
      "min_height": null,
      "min_width": null,
      "object_fit": null,
      "object_position": null,
      "order": null,
      "overflow": null,
      "overflow_x": null,
      "overflow_y": null,
      "padding": null,
      "right": null,
      "top": null,
      "visibility": null,
      "width": null
     }
    },
    "a3a89c5d7ee44b708a0a6350b3b2b9d7": {
     "model_module": "@jupyter-widgets/base",
     "model_module_version": "1.2.0",
     "model_name": "LayoutModel",
     "state": {
      "_model_module": "@jupyter-widgets/base",
      "_model_module_version": "1.2.0",
      "_model_name": "LayoutModel",
      "_view_count": null,
      "_view_module": "@jupyter-widgets/base",
      "_view_module_version": "1.2.0",
      "_view_name": "LayoutView",
      "align_content": null,
      "align_items": null,
      "align_self": null,
      "border": null,
      "bottom": null,
      "display": null,
      "flex": null,
      "flex_flow": null,
      "grid_area": null,
      "grid_auto_columns": null,
      "grid_auto_flow": null,
      "grid_auto_rows": null,
      "grid_column": null,
      "grid_gap": null,
      "grid_row": null,
      "grid_template_areas": null,
      "grid_template_columns": null,
      "grid_template_rows": null,
      "height": null,
      "justify_content": null,
      "justify_items": null,
      "left": null,
      "margin": null,
      "max_height": null,
      "max_width": null,
      "min_height": null,
      "min_width": null,
      "object_fit": null,
      "object_position": null,
      "order": null,
      "overflow": null,
      "overflow_x": null,
      "overflow_y": null,
      "padding": null,
      "right": null,
      "top": null,
      "visibility": null,
      "width": null
     }
    },
    "a4a368e4587a4249803f2cc65ec59447": {
     "model_module": "@jupyter-widgets/controls",
     "model_module_version": "1.5.0",
     "model_name": "HTMLModel",
     "state": {
      "_dom_classes": [],
      "_model_module": "@jupyter-widgets/controls",
      "_model_module_version": "1.5.0",
      "_model_name": "HTMLModel",
      "_view_count": null,
      "_view_module": "@jupyter-widgets/controls",
      "_view_module_version": "1.5.0",
      "_view_name": "HTMLView",
      "description": "",
      "description_tooltip": null,
      "layout": "IPY_MODEL_a3a89c5d7ee44b708a0a6350b3b2b9d7",
      "placeholder": "​",
      "style": "IPY_MODEL_8c8804df37e94dc59fb97e2da8a2938c",
      "value": " 496287/496287 [00:13&lt;00:00, 39104.20it/s]"
     }
    },
    "cac00dcd99444fbf981d39ac86f6dbb1": {
     "model_module": "@jupyter-widgets/base",
     "model_module_version": "1.2.0",
     "model_name": "LayoutModel",
     "state": {
      "_model_module": "@jupyter-widgets/base",
      "_model_module_version": "1.2.0",
      "_model_name": "LayoutModel",
      "_view_count": null,
      "_view_module": "@jupyter-widgets/base",
      "_view_module_version": "1.2.0",
      "_view_name": "LayoutView",
      "align_content": null,
      "align_items": null,
      "align_self": null,
      "border": null,
      "bottom": null,
      "display": null,
      "flex": null,
      "flex_flow": null,
      "grid_area": null,
      "grid_auto_columns": null,
      "grid_auto_flow": null,
      "grid_auto_rows": null,
      "grid_column": null,
      "grid_gap": null,
      "grid_row": null,
      "grid_template_areas": null,
      "grid_template_columns": null,
      "grid_template_rows": null,
      "height": null,
      "justify_content": null,
      "justify_items": null,
      "left": null,
      "margin": null,
      "max_height": null,
      "max_width": null,
      "min_height": null,
      "min_width": null,
      "object_fit": null,
      "object_position": null,
      "order": null,
      "overflow": null,
      "overflow_x": null,
      "overflow_y": null,
      "padding": null,
      "right": null,
      "top": null,
      "visibility": null,
      "width": null
     }
    },
    "ce7a3c56fd97444494cc2f38e8e57a43": {
     "model_module": "@jupyter-widgets/controls",
     "model_module_version": "1.5.0",
     "model_name": "DescriptionStyleModel",
     "state": {
      "_model_module": "@jupyter-widgets/controls",
      "_model_module_version": "1.5.0",
      "_model_name": "DescriptionStyleModel",
      "_view_count": null,
      "_view_module": "@jupyter-widgets/base",
      "_view_module_version": "1.2.0",
      "_view_name": "StyleView",
      "description_width": ""
     }
    },
    "ced459385281493a98c7f7676f4f2f9a": {
     "model_module": "@jupyter-widgets/controls",
     "model_module_version": "1.5.0",
     "model_name": "FloatProgressModel",
     "state": {
      "_dom_classes": [],
      "_model_module": "@jupyter-widgets/controls",
      "_model_module_version": "1.5.0",
      "_model_name": "FloatProgressModel",
      "_view_count": null,
      "_view_module": "@jupyter-widgets/controls",
      "_view_module_version": "1.5.0",
      "_view_name": "ProgressView",
      "bar_style": "success",
      "description": "",
      "description_tooltip": null,
      "layout": "IPY_MODEL_0588aa3ac4c14d8183795eb027a72357",
      "max": 496287,
      "min": 0,
      "orientation": "horizontal",
      "style": "IPY_MODEL_89df5acaf4f84199af69e25bd9dbc301",
      "value": 496287
     }
    },
    "cfa8ef8bacd747bfbc703557dad8b4f5": {
     "model_module": "@jupyter-widgets/base",
     "model_module_version": "1.2.0",
     "model_name": "LayoutModel",
     "state": {
      "_model_module": "@jupyter-widgets/base",
      "_model_module_version": "1.2.0",
      "_model_name": "LayoutModel",
      "_view_count": null,
      "_view_module": "@jupyter-widgets/base",
      "_view_module_version": "1.2.0",
      "_view_name": "LayoutView",
      "align_content": null,
      "align_items": null,
      "align_self": null,
      "border": null,
      "bottom": null,
      "display": null,
      "flex": null,
      "flex_flow": null,
      "grid_area": null,
      "grid_auto_columns": null,
      "grid_auto_flow": null,
      "grid_auto_rows": null,
      "grid_column": null,
      "grid_gap": null,
      "grid_row": null,
      "grid_template_areas": null,
      "grid_template_columns": null,
      "grid_template_rows": null,
      "height": null,
      "justify_content": null,
      "justify_items": null,
      "left": null,
      "margin": null,
      "max_height": null,
      "max_width": null,
      "min_height": null,
      "min_width": null,
      "object_fit": null,
      "object_position": null,
      "order": null,
      "overflow": null,
      "overflow_x": null,
      "overflow_y": null,
      "padding": null,
      "right": null,
      "top": null,
      "visibility": null,
      "width": null
     }
    },
    "d0dd6a55514043cbbe7258de4e99768d": {
     "model_module": "@jupyter-widgets/controls",
     "model_module_version": "1.5.0",
     "model_name": "DescriptionStyleModel",
     "state": {
      "_model_module": "@jupyter-widgets/controls",
      "_model_module_version": "1.5.0",
      "_model_name": "DescriptionStyleModel",
      "_view_count": null,
      "_view_module": "@jupyter-widgets/base",
      "_view_module_version": "1.2.0",
      "_view_name": "StyleView",
      "description_width": ""
     }
    },
    "d4e2ff8083b340b8bac085970091fc6e": {
     "model_module": "@jupyter-widgets/controls",
     "model_module_version": "1.5.0",
     "model_name": "HTMLModel",
     "state": {
      "_dom_classes": [],
      "_model_module": "@jupyter-widgets/controls",
      "_model_module_version": "1.5.0",
      "_model_name": "HTMLModel",
      "_view_count": null,
      "_view_module": "@jupyter-widgets/controls",
      "_view_module_version": "1.5.0",
      "_view_name": "HTMLView",
      "description": "",
      "description_tooltip": null,
      "layout": "IPY_MODEL_36077d9581a64aeea1496fe193138806",
      "placeholder": "​",
      "style": "IPY_MODEL_87ba12b38efc40a9b4509f3973776aad",
      "value": "100%"
     }
    },
    "d5eafb9ee70f44f7bf3d1909b8c06e1c": {
     "model_module": "@jupyter-widgets/base",
     "model_module_version": "1.2.0",
     "model_name": "LayoutModel",
     "state": {
      "_model_module": "@jupyter-widgets/base",
      "_model_module_version": "1.2.0",
      "_model_name": "LayoutModel",
      "_view_count": null,
      "_view_module": "@jupyter-widgets/base",
      "_view_module_version": "1.2.0",
      "_view_name": "LayoutView",
      "align_content": null,
      "align_items": null,
      "align_self": null,
      "border": null,
      "bottom": null,
      "display": null,
      "flex": null,
      "flex_flow": null,
      "grid_area": null,
      "grid_auto_columns": null,
      "grid_auto_flow": null,
      "grid_auto_rows": null,
      "grid_column": null,
      "grid_gap": null,
      "grid_row": null,
      "grid_template_areas": null,
      "grid_template_columns": null,
      "grid_template_rows": null,
      "height": null,
      "justify_content": null,
      "justify_items": null,
      "left": null,
      "margin": null,
      "max_height": null,
      "max_width": null,
      "min_height": null,
      "min_width": null,
      "object_fit": null,
      "object_position": null,
      "order": null,
      "overflow": null,
      "overflow_x": null,
      "overflow_y": null,
      "padding": null,
      "right": null,
      "top": null,
      "visibility": null,
      "width": null
     }
    },
    "d9f9983be2a94e9fa777ccf99eb3f300": {
     "model_module": "@jupyter-widgets/controls",
     "model_module_version": "1.5.0",
     "model_name": "HTMLModel",
     "state": {
      "_dom_classes": [],
      "_model_module": "@jupyter-widgets/controls",
      "_model_module_version": "1.5.0",
      "_model_name": "HTMLModel",
      "_view_count": null,
      "_view_module": "@jupyter-widgets/controls",
      "_view_module_version": "1.5.0",
      "_view_name": "HTMLView",
      "description": "",
      "description_tooltip": null,
      "layout": "IPY_MODEL_8d28c64430b64773ba76e34dcaba6d7d",
      "placeholder": "​",
      "style": "IPY_MODEL_1514467bb2c54b989da0c5a81a07b725",
      "value": "100%"
     }
    },
    "f0b5622a48ed4b6196bff2a42ab10208": {
     "model_module": "@jupyter-widgets/controls",
     "model_module_version": "1.5.0",
     "model_name": "ProgressStyleModel",
     "state": {
      "_model_module": "@jupyter-widgets/controls",
      "_model_module_version": "1.5.0",
      "_model_name": "ProgressStyleModel",
      "_view_count": null,
      "_view_module": "@jupyter-widgets/base",
      "_view_module_version": "1.2.0",
      "_view_name": "StyleView",
      "bar_color": null,
      "description_width": ""
     }
    },
    "f68027acde144df9ad9c017be483b703": {
     "model_module": "@jupyter-widgets/controls",
     "model_module_version": "1.5.0",
     "model_name": "HTMLModel",
     "state": {
      "_dom_classes": [],
      "_model_module": "@jupyter-widgets/controls",
      "_model_module_version": "1.5.0",
      "_model_name": "HTMLModel",
      "_view_count": null,
      "_view_module": "@jupyter-widgets/controls",
      "_view_module_version": "1.5.0",
      "_view_name": "HTMLView",
      "description": "",
      "description_tooltip": null,
      "layout": "IPY_MODEL_725a71da2f714517906eb54679c97f14",
      "placeholder": "​",
      "style": "IPY_MODEL_03187947e8ab40e387ce6b1ccbaca3de",
      "value": " 496287/496287 [00:13&lt;00:00, 37399.52it/s]"
     }
    },
    "f9fe50cde17b4209b39344141dee6637": {
     "model_module": "@jupyter-widgets/controls",
     "model_module_version": "1.5.0",
     "model_name": "HTMLModel",
     "state": {
      "_dom_classes": [],
      "_model_module": "@jupyter-widgets/controls",
      "_model_module_version": "1.5.0",
      "_model_name": "HTMLModel",
      "_view_count": null,
      "_view_module": "@jupyter-widgets/controls",
      "_view_module_version": "1.5.0",
      "_view_name": "HTMLView",
      "description": "",
      "description_tooltip": null,
      "layout": "IPY_MODEL_86da2c4022cf4722b4262b0419d46ce6",
      "placeholder": "​",
      "style": "IPY_MODEL_1a414e543dbf4cec8cee15f9985d49fd",
      "value": "100%"
     }
    }
   }
  }
 },
 "nbformat": 4,
 "nbformat_minor": 1
}
